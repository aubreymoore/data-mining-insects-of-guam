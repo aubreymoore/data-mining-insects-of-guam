{
 "cells": [
  {
   "cell_type": "code",
   "execution_count": 9,
   "id": "09ad1085",
   "metadata": {},
   "outputs": [],
   "source": [
    "import pandas as pd\n",
    "import osfclient as osf"
   ]
  },
  {
   "cell_type": "code",
   "execution_count": 56,
   "id": "76b83db6",
   "metadata": {},
   "outputs": [
    {
     "data": {
      "text/html": [
       "<div>\n",
       "<style scoped>\n",
       "    .dataframe tbody tr th:only-of-type {\n",
       "        vertical-align: middle;\n",
       "    }\n",
       "\n",
       "    .dataframe tbody tr th {\n",
       "        vertical-align: top;\n",
       "    }\n",
       "\n",
       "    .dataframe thead th {\n",
       "        text-align: right;\n",
       "    }\n",
       "</style>\n",
       "<table border=\"1\" class=\"dataframe\">\n",
       "  <thead>\n",
       "    <tr style=\"text-align: right;\">\n",
       "      <th></th>\n",
       "      <th>uuid</th>\n",
       "      <th>imf</th>\n",
       "      <th>gbif</th>\n",
       "    </tr>\n",
       "  </thead>\n",
       "  <tbody>\n",
       "    <tr>\n",
       "      <th>0</th>\n",
       "      <td>2A01FF71FFF051065F5BAF5AFFFAFF96</td>\n",
       "      <td>InsectsOfGuamI.172.73-146.pdf.imf</td>\n",
       "      <td>[gbif dataset](https://www.gbif.org/dataset/se...</td>\n",
       "    </tr>\n",
       "    <tr>\n",
       "      <th>1</th>\n",
       "      <td>4125F147872BFF9DFFF5FFAC140DFF83</td>\n",
       "      <td>InsectsOfGuamI.172.199-200.pdf.imf</td>\n",
       "      <td>[gbif dataset](https://www.gbif.org/dataset/se...</td>\n",
       "    </tr>\n",
       "    <tr>\n",
       "      <th>2</th>\n",
       "      <td>8A034648715AFFEADD11FF809F446C3F</td>\n",
       "      <td>InsectsOfGuamI.172.147-149.pdf.imf</td>\n",
       "      <td>[gbif dataset](https://www.gbif.org/dataset/se...</td>\n",
       "    </tr>\n",
       "  </tbody>\n",
       "</table>\n",
       "</div>"
      ],
      "text/plain": [
       "                               uuid                                 imf  \\\n",
       "0  2A01FF71FFF051065F5BAF5AFFFAFF96   InsectsOfGuamI.172.73-146.pdf.imf   \n",
       "1  4125F147872BFF9DFFF5FFAC140DFF83  InsectsOfGuamI.172.199-200.pdf.imf   \n",
       "2  8A034648715AFFEADD11FF809F446C3F  InsectsOfGuamI.172.147-149.pdf.imf   \n",
       "\n",
       "                                                gbif  \n",
       "0  [gbif dataset](https://www.gbif.org/dataset/se...  \n",
       "1  [gbif dataset](https://www.gbif.org/dataset/se...  \n",
       "2  [gbif dataset](https://www.gbif.org/dataset/se...  "
      ]
     },
     "execution_count": 56,
     "metadata": {},
     "output_type": "execute_result"
    }
   ],
   "source": [
    "# will work only if OSF project is public\n",
    "\n",
    "df = pd.read_csv('https://osf.io/sqbxu/download', delimiter='\\t', header=None) \n",
    "df.drop([0,3], axis='columns', inplace=True)\n",
    "df.columns = ['uuid', 'imf']\n",
    "df['gbif'] = df.apply(lambda x: f'[gbif dataset](https://www.gbif.org/dataset/search?q={x.uuid})', axis=1)\n",
    "df.head(3)"
   ]
  },
  {
   "cell_type": "code",
   "execution_count": 57,
   "id": "35aa4058",
   "metadata": {},
   "outputs": [],
   "source": [
    "s = '|uuid|imf|gbif|\\n'\n",
    "s += '|-|-|-|\\n'\n",
    "for i, r in df.iterrows():\n",
    "    s += f'|{r.uuid}|{r.imf}|{r.gbif}|\\n'\n",
    "with open('mylinks.md', 'w') as f:\n",
    "    f.write(s)   "
   ]
  },
  {
   "cell_type": "code",
   "execution_count": 42,
   "id": "edb72304",
   "metadata": {},
   "outputs": [],
   "source": [
    "df.to_markdown('test.md')"
   ]
  },
  {
   "cell_type": "code",
   "execution_count": null,
   "id": "c75042c9",
   "metadata": {},
   "outputs": [],
   "source": []
  }
 ],
 "metadata": {
  "kernelspec": {
   "display_name": "Python 3",
   "language": "python",
   "name": "python3"
  },
  "language_info": {
   "codemirror_mode": {
    "name": "ipython",
    "version": 3
   },
   "file_extension": ".py",
   "mimetype": "text/x-python",
   "name": "python",
   "nbconvert_exporter": "python",
   "pygments_lexer": "ipython3",
   "version": "3.8.8"
  }
 },
 "nbformat": 4,
 "nbformat_minor": 5
}
