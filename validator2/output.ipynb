{
 "cells": [
  {
   "cell_type": "markdown",
   "id": "e369909c-da83-4d18-a331-a235534528af",
   "metadata": {
    "papermill": {
     "duration": 0.00974,
     "end_time": "2022-01-20T20:00:02.588819",
     "exception": false,
     "start_time": "2022-01-20T20:00:02.579079",
     "status": "completed"
    },
    "tags": []
   },
   "source": [
    "# validator2\n",
    "\n",
    "This notebook validates materials citations annotation using Darwin core archives downloaded from GGI server. "
   ]
  },
  {
   "cell_type": "markdown",
   "id": "07124511-12af-4f3b-a87b-f005e6c6f912",
   "metadata": {
    "papermill": {
     "duration": 0.006043,
     "end_time": "2022-01-20T20:00:02.601388",
     "exception": false,
     "start_time": "2022-01-20T20:00:02.595345",
     "status": "completed"
    },
    "tags": []
   },
   "source": [
    "### old docs - delete eventually\n",
    "\n",
    "This notebook controls execution of GGI using **pyautogui**.\n",
    "\n",
    "It was written to automate downloading XML files for documents from Insects of Guam I and II\n",
    "as part of a validation process.\n",
    "\n",
    "This is a fragile hack which probably runs only on my particular setup.\n",
    "\n",
    "Run in Jupyter lab using the Python 3 kernel. \n",
    "\n",
    "The JupyterLab window should display on my laptop, with GGI displaying on the \"big screen\" (2560 x 1080)\n",
    "\n",
    "Remember to push to GitHub."
   ]
  },
  {
   "cell_type": "code",
   "execution_count": 1,
   "id": "d8a8cdd5-ccf1-4804-9434-1c3bafb0a9eb",
   "metadata": {
    "execution": {
     "iopub.execute_input": "2022-01-20T20:00:02.616423Z",
     "iopub.status.busy": "2022-01-20T20:00:02.616135Z",
     "iopub.status.idle": "2022-01-20T20:00:02.949617Z",
     "shell.execute_reply": "2022-01-20T20:00:02.949327Z"
    },
    "papermill": {
     "duration": 0.34223,
     "end_time": "2022-01-20T20:00:02.949698",
     "exception": false,
     "start_time": "2022-01-20T20:00:02.607468",
     "status": "completed"
    },
    "tags": []
   },
   "outputs": [],
   "source": [
    "#import pyautogui as pag\n",
    "import time\n",
    "#import mysecrets\n",
    "import pandas as pd\n",
    "import subprocess\n",
    "#from bs4 import BeautifulSoup\n",
    "import re\n",
    "#import json\n",
    "from datetime import datetime\n",
    "import os"
   ]
  },
  {
   "cell_type": "code",
   "execution_count": 2,
   "id": "e1733c09-0403-4e2f-9320-a172269c0563",
   "metadata": {
    "execution": {
     "iopub.execute_input": "2022-01-20T20:00:02.965995Z",
     "iopub.status.busy": "2022-01-20T20:00:02.965622Z",
     "iopub.status.idle": "2022-01-20T20:00:02.967438Z",
     "shell.execute_reply": "2022-01-20T20:00:02.967141Z"
    },
    "papermill": {
     "duration": 0.01081,
     "end_time": "2022-01-20T20:00:02.967501",
     "exception": false,
     "start_time": "2022-01-20T20:00:02.956691",
     "status": "completed"
    },
    "tags": []
   },
   "outputs": [],
   "source": [
    "# This list is currently maintained \"manually\".\n",
    "\n",
    "author_list = [\n",
    "    'A. Cruz',\n",
    "    'E. H. Bryan',\n",
    "    'E. H. Bryan and O. H. Swezey',\n",
    "    'T. E. Esaki',\n",
    "    'D. T. Fullaway',\n",
    "    'H. G. Hornbostel',\n",
    "    'R. G. Oakley',\n",
    "    'Z. Ono',\n",
    "    'O. H. Swezey',\n",
    "    'O. H. Swezey and R. L. Usinger',\n",
    "    'Rowley',\n",
    "    'R. L. Usinger',\n",
    "    'R. L. Usinger and O. H. Swezey',\n",
    "    'unknown',\n",
    "]"
   ]
  },
  {
   "cell_type": "code",
   "execution_count": 3,
   "id": "5cf07bac-6abf-4c76-9c88-ea55e945a70d",
   "metadata": {
    "execution": {
     "iopub.execute_input": "2022-01-20T20:00:02.983600Z",
     "iopub.status.busy": "2022-01-20T20:00:02.983298Z",
     "iopub.status.idle": "2022-01-20T20:00:02.985108Z",
     "shell.execute_reply": "2022-01-20T20:00:02.984816Z"
    },
    "papermill": {
     "duration": 0.011188,
     "end_time": "2022-01-20T20:00:02.985170",
     "exception": false,
     "start_time": "2022-01-20T20:00:02.973982",
     "status": "completed"
    },
    "tags": []
   },
   "outputs": [],
   "source": [
    "# This list is currently maintained \"manually\".\n",
    "\n",
    "locality_list = [\n",
    "    'Agana',\n",
    "    'Agana Swamp',\n",
    "    'Agat',\n",
    "    'Agfayan',\n",
    "    'Asan',\n",
    "    'Atao Beach',\n",
    "    'Barrigada',\n",
    "    'Dandan',\n",
    "    'Dededo',\n",
    "    'Fadian',\n",
    "    'Government House, Agana',\n",
    "    'Guam',\n",
    "    'Inarajan',\n",
    "    'Machanao',\n",
    "    'Mata',\n",
    "    'Merizo',\n",
    "    'Mogfog',\n",
    "    'Mt. Alifan',\n",
    "    'Mount Alifan',\n",
    "    'Mount Chachao',\n",
    "    'Mt. Sasalaguan',\n",
    "    'Mount Sasalaguan', \n",
    "    'Mount Tenjo',\n",
    "    'Orote Peninsula',\n",
    "    'Orote Point',\n",
    "    'Passan',\n",
    "    'Piti',\n",
    "    'Ritidian Point',\n",
    "    'Rota Island',\n",
    "    'Root School Farm',\n",
    "    'Santa Rosa Peak',\n",
    "    'Sumay Road',\n",
    "    'Tarague',\n",
    "    'Tarague Beach',\n",
    "    'Tumon',\n",
    "    'Umatac',\n",
    "    'Upi Trail',\n",
    "    'Yigo',\n",
    "    'Yona',\n",
    "    'Atantano',\n",
    "    'Talofofo',\n",
    "    'Libugon Farm',\n",
    "    'Sumay',\n",
    "    'Fonte Valley',\n",
    "    'Ponape',\n",
    "    'Ponape, Mount Nanalaut',\n",
    "    'Ponape, Nipit-Ninoani',\n",
    "    'Ponape, Kolonia-Nat',\n",
    "    'Babelthaup, Marukyoku',\n",
    "    'Kusaie, Mount Wakapp',\n",
    "]"
   ]
  },
  {
   "cell_type": "code",
   "execution_count": 4,
   "id": "cd7e3470-06be-4855-9c2b-93906e48c8b3",
   "metadata": {
    "execution": {
     "iopub.execute_input": "2022-01-20T20:00:03.000819Z",
     "iopub.status.busy": "2022-01-20T20:00:03.000530Z",
     "iopub.status.idle": "2022-01-20T20:00:03.002343Z",
     "shell.execute_reply": "2022-01-20T20:00:03.002046Z"
    },
    "papermill": {
     "duration": 0.010612,
     "end_time": "2022-01-20T20:00:03.002405",
     "exception": false,
     "start_time": "2022-01-20T20:00:02.991793",
     "status": "completed"
    },
    "tags": []
   },
   "outputs": [],
   "source": [
    "date_list = [\n",
    "    '1911',\n",
    "    '1925',\n",
    "    '1936',\n",
    "    '1937',\n",
    "    '1938',\n",
    "    '1939',\n",
    "]"
   ]
  },
  {
   "cell_type": "code",
   "execution_count": 5,
   "id": "b562a34e-a316-4b6e-a20d-45fd7d9f2f3e",
   "metadata": {
    "execution": {
     "iopub.execute_input": "2022-01-20T20:00:03.017810Z",
     "iopub.status.busy": "2022-01-20T20:00:03.017490Z",
     "iopub.status.idle": "2022-01-20T20:00:03.019296Z",
     "shell.execute_reply": "2022-01-20T20:00:03.019000Z"
    },
    "papermill": {
     "duration": 0.010441,
     "end_time": "2022-01-20T20:00:03.019356",
     "exception": false,
     "start_time": "2022-01-20T20:00:03.008915",
     "status": "completed"
    },
    "tags": []
   },
   "outputs": [],
   "source": [
    "country_list = [\n",
    "    'Guam',\n",
    "    'Northern Mariana Islands',\n",
    "    'Palau',\n",
    "    'Micronesia (Federated States of)',\n",
    "]"
   ]
  },
  {
   "cell_type": "code",
   "execution_count": 6,
   "id": "27e1808f",
   "metadata": {
    "execution": {
     "iopub.execute_input": "2022-01-20T20:00:03.036942Z",
     "iopub.status.busy": "2022-01-20T20:00:03.036619Z",
     "iopub.status.idle": "2022-01-20T20:00:03.038441Z",
     "shell.execute_reply": "2022-01-20T20:00:03.038145Z"
    },
    "papermill": {
     "duration": 0.011859,
     "end_time": "2022-01-20T20:00:03.038502",
     "exception": false,
     "start_time": "2022-01-20T20:00:03.026643",
     "status": "completed"
    },
    "tags": []
   },
   "outputs": [],
   "source": [
    "def read_dataset_list():\n",
    "    '''\n",
    "    Reads ../dataset-list.md and returns a pandas dataframe\n",
    "    '''\n",
    "    \n",
    "    # Read a markdown file, getting the header from the first row and inex from the second column\n",
    "    # df = pd.read_table('../dataset-list.md', sep=\"|\", header=0, index_col=1, skipinitialspace=True)\n",
    "    \n",
    "    df = pd.read_table('../dataset-list.md', sep=\"|\", header=0, skipinitialspace=True)\n",
    "\n",
    "    # Drop the left-most and right-most null columns \n",
    "    \n",
    "    df = df.dropna(axis=1, how='all')\n",
    "\n",
    "    # Drop the header underline row\n",
    "    \n",
    "    df = df.iloc[1:]  \n",
    "\n",
    "    # Left-align strings and column headings\n",
    "    # df = df.style.set_properties(**{'text-align': 'left'})\n",
    "    # df = df.set_table_styles([dict(selector = 'th', props=[('text-align', 'left')])])\n",
    "\n",
    "    # Strip whitespace from end of strings\n",
    "    \n",
    "    df = df.applymap(lambda x: x.strip() if isinstance(x, str) else x)\n",
    "\n",
    "    # Strip whitespace from end of column headers\n",
    "    \n",
    "    df.columns = df.columns.str.strip()\n",
    "\n",
    "    # Drop datasets with no title - we don't need to process these\n",
    "    \n",
    "    df = df.drop(df[df.title == 'no title'].index)\n",
    "    return df\n",
    "\n",
    "# read_dataset_list()"
   ]
  },
  {
   "cell_type": "raw",
   "id": "5586fc51-e93b-4c4b-83a2-58aabc55442a",
   "metadata": {
    "papermill": {
     "duration": 0.006628,
     "end_time": "2022-01-20T20:00:03.051814",
     "exception": false,
     "start_time": "2022-01-20T20:00:03.045186",
     "status": "completed"
    },
    "tags": []
   },
   "source": [
    "XMLDIR = '/home/aubrey/Desktop/data-mining-insects-of-guam/MatCit-Validator'"
   ]
  },
  {
   "cell_type": "raw",
   "id": "a9f03d33-634e-4e13-8b68-caec3c255c55",
   "metadata": {
    "papermill": {
     "duration": 0.006608,
     "end_time": "2022-01-20T20:00:03.065643",
     "exception": false,
     "start_time": "2022-01-20T20:00:03.059035",
     "status": "completed"
    },
    "tags": []
   },
   "source": [
    "pag.PAUSE = 5"
   ]
  },
  {
   "cell_type": "raw",
   "id": "6b46d8a1-8776-4259-bb1c-db8b554f0191",
   "metadata": {
    "papermill": {
     "duration": 0.00713,
     "end_time": "2022-01-20T20:00:03.079273",
     "exception": false,
     "start_time": "2022-01-20T20:00:03.072143",
     "status": "completed"
    },
    "tags": []
   },
   "source": [
    "def open_GGI():\n",
    "    pag.hotkey('ctrl','alt','t')\n",
    "    pag.typewrite('cd GGI\\n')\n",
    "    pag.typewrite('java -jar GgImagineStarter.jar\\n')\n",
    "    pag.typewrite('\\n')\n",
    "    time.sleep(10)\n",
    "\n",
    "    pag.click(1141, 565, duration=2) # select configuration\n",
    "    pag.click(1469, 646, duration=2) # click configuration button\n",
    "    pag.click(1590, 562, duration=2) # look and feel\n",
    "    pag.click(1259, 635, duration=2) # select JAVA\n",
    "    pag.click(1267, 709, duration=2) # OK\n",
    "    pag.click(1143, 648, duration=2) # OK\n",
    "    pag.click(1766, 171, duration=2) # maximize window"
   ]
  },
  {
   "cell_type": "raw",
   "id": "651087df-1451-4873-a427-31c4b4f9d0a6",
   "metadata": {
    "papermill": {
     "duration": 0.007109,
     "end_time": "2022-01-20T20:00:03.093629",
     "exception": false,
     "start_time": "2022-01-20T20:00:03.086520",
     "status": "completed"
    },
    "tags": []
   },
   "source": [
    "def login():\n",
    "    '''\n",
    "    This function spoofs a login by clicking on File | Load from GGI server items on the main GGI menu.\n",
    "    The first time that a download is requested during a session results in a login dialog.\n",
    "    \n",
    "    My username is remembered by GGI, so this function provides only my password. Note that I keep \n",
    "    this private by reading it from mysecrets.py which is included in .gitignore. The pertinant line looks like\n",
    "    \"password = <my GGI password>\".\n",
    "    \n",
    "    This function does not download a document from the GGI server, but exits after pressing the \"cancel\" button.    \n",
    "    '''\n",
    "    pag.click(  92,  69, duration=2) # File\n",
    "    pag.click( 122, 134, duration=2) # load from GGI server\n",
    "    pag.press('enter')\n",
    "    pag.typewrite(mysecrets.password)  # password\n",
    "    pag.press('enter')\n",
    "    pag.click(1371, 594, duration=2) # cancel"
   ]
  },
  {
   "cell_type": "raw",
   "id": "92b3d44c-6a82-43bd-ad3b-81db7c21dec2",
   "metadata": {
    "papermill": {
     "duration": 0.006964,
     "end_time": "2022-01-20T20:00:03.107544",
     "exception": false,
     "start_time": "2022-01-20T20:00:03.100580",
     "status": "completed"
    },
    "tags": []
   },
   "source": [
    "def load_doc(uuid):\n",
    "    pag.click(  92,  69, duration=2) # File\n",
    "    pag.click( 122, 134, duration=2) # load from GGI server\n",
    "    pag.typewrite(uuid)\n",
    "    pag.press('enter')\n",
    "    \n",
    "# load_doc('FF86FFC39D5F6775A307302F3260421D')"
   ]
  },
  {
   "cell_type": "raw",
   "id": "cdd1a1cb-bfa6-4c16-801d-726504f576c5",
   "metadata": {
    "papermill": {
     "duration": 0.006738,
     "end_time": "2022-01-20T20:00:03.121507",
     "exception": false,
     "start_time": "2022-01-20T20:00:03.114769",
     "status": "completed"
    },
    "tags": []
   },
   "source": [
    "def export_xml(uuid):\n",
    "    pag.click(133,  72, duration=2) # Export\n",
    "    pag.click(151, 154, duration=2) # Export XML\n",
    "    xml_path = f'{XMLDIR}/{uuid}'\n",
    "    pag.press('backspace')          # Remove space character in textbox\n",
    "    pag.typewrite(xml_path)\n",
    "    pag.press('enter')\n",
    "    \n",
    "# export_xml('FF86FFC39D5F6775A307302F3260421D')"
   ]
  },
  {
   "cell_type": "raw",
   "id": "54a05521-ed86-4a60-a188-a3d02e51b758",
   "metadata": {
    "papermill": {
     "duration": 0.006688,
     "end_time": "2022-01-20T20:00:03.135403",
     "exception": false,
     "start_time": "2022-01-20T20:00:03.128715",
     "status": "completed"
    },
    "tags": []
   },
   "source": [
    "def close_doc():\n",
    "    pag.click(  92,  69, duration=2) # File\n",
    "    pag.click( 132, 214, duration=2) # Close Document\n",
    "\n",
    "# close_doc()"
   ]
  },
  {
   "cell_type": "raw",
   "id": "a819b243-0c2e-40b6-9531-aa36e7f6258d",
   "metadata": {
    "papermill": {
     "duration": 0.006393,
     "end_time": "2022-01-20T20:00:03.148427",
     "exception": false,
     "start_time": "2022-01-20T20:00:03.142034",
     "status": "completed"
    },
    "tags": []
   },
   "source": [
    "def process_doc(uuid):\n",
    "    cl = f'papermill -p UUID {uuid} MatCit-Validator.ipynb {uuid}.ipynb'\n",
    "    x = subprocess.run(cl, shell=True, capture_output=True, text=True)\n",
    "    if x.returncode != 0:\n",
    "        print(x.stderr)\n",
    "        \n",
    "# process_doc('FF86FFC39D5F6775A307302F3260421D')"
   ]
  },
  {
   "cell_type": "code",
   "execution_count": 7,
   "id": "4aea1a8e-d747-47e7-ac51-76e1ed614349",
   "metadata": {
    "execution": {
     "iopub.execute_input": "2022-01-20T20:00:03.164746Z",
     "iopub.status.busy": "2022-01-20T20:00:03.164426Z",
     "iopub.status.idle": "2022-01-20T20:00:03.166274Z",
     "shell.execute_reply": "2022-01-20T20:00:03.166024Z"
    },
    "papermill": {
     "duration": 0.011174,
     "end_time": "2022-01-20T20:00:03.166340",
     "exception": false,
     "start_time": "2022-01-20T20:00:03.155166",
     "status": "completed"
    },
    "tags": []
   },
   "outputs": [
    {
     "name": "stdout",
     "output_type": "stream",
     "text": [
      "CPU times: user 1e+03 ns, sys: 1e+03 ns, total: 2 µs\n",
      "Wall time: 4.53 µs\n"
     ]
    }
   ],
   "source": [
    "%%time\n",
    "\n",
    "def update_github():\n",
    "    command = f'./update_github.sh'\n",
    "    result = os.system(command)\n",
    "    assert result==0, f'{command} failed'  \n",
    "\n",
    "# update_github()"
   ]
  },
  {
   "cell_type": "raw",
   "id": "b4c15abe-36ed-4e66-8b9b-f6bdb580120a",
   "metadata": {
    "papermill": {
     "duration": 0.007249,
     "end_time": "2022-01-20T20:00:03.180492",
     "exception": false,
     "start_time": "2022-01-20T20:00:03.173243",
     "status": "completed"
    },
    "tags": []
   },
   "source": [
    "def nth_repl(s, sub, repl, n):\n",
    "    find = s.find(sub)\n",
    "    # If find is not -1 we have found at least one match for the substring\n",
    "    i = find != -1\n",
    "    # loop util we find the nth or we find no match\n",
    "    while find != -1 and i != n:\n",
    "        # find + 1 means we start searching from after the last match\n",
    "        find = s.find(sub, find + 1)\n",
    "        i += 1\n",
    "    # If i is equal to n we found nth match so replace\n",
    "    if i == n:\n",
    "        return s[:find] + repl + s[find+len(sub):]\n",
    "    return s\n",
    "\n",
    "# s = '''\n",
    "# <tr>\n",
    "#     <td>alpha</td>\n",
    "# </tr>\n",
    "# <tr>\n",
    "#     <td>beta</td>\n",
    "# </tr>\n",
    "# <tr>\n",
    "#     <td>cappa</td>\n",
    "# </tr>\n",
    "# '''\n",
    "# print(s)\n",
    "# print()\n",
    "# s = nth_repl(s, '<tr', '<tr caca', 2)\n",
    "# print(s)"
   ]
  },
  {
   "cell_type": "raw",
   "id": "7167f636-6911-4b10-a945-4564fc435a64",
   "metadata": {
    "papermill": {
     "duration": 0.006822,
     "end_time": "2022-01-20T20:00:03.194611",
     "exception": false,
     "start_time": "2022-01-20T20:00:03.187789",
     "status": "completed"
    },
    "tags": []
   },
   "source": [
    "def create_status_report():\n",
    "    \n",
    "    summary_list = []\n",
    "    for uuid in uuids:\n",
    "        summary = json.load(open(f'{uuid}_summary.json'))\n",
    "        summary['uuid'] = uuid\n",
    "        summary_list.append(summary)\n",
    "    df_summary = pd.DataFrame(summary_list)\n",
    "    df_merged = pd.merge(df, df_summary, on='uuid')\n",
    "    df_merged.drop('status', axis=1, inplace=True)\n",
    "    #df_merged['validation report'] = f'<a href=\"{df_merged.uuid}.html\">validation report</a>'\n",
    "    summary_html = df_merged.to_html(index=False)\n",
    "    \n",
    "    # Edit so that the table is nicely styled with Bulma\n",
    "    \n",
    "    summary_html = summary_html.replace('<table border=\"1\" class=\"dataframe\">', '<table class=\"table\">')\n",
    "    summary_html = summary_html.replace('<th>', '<th class=\"has-text-centered\">')\n",
    "    summary_html = summary_html.replace('<td>', '<td class=\"has-text-centered\">')\n",
    "    \n",
    "    # Link uuid to validation report\n",
    "    \n",
    "    for uuid in uuids:\n",
    "        summary_html = summary_html.replace(uuid, f'<a href=\"{uuid}.html\">{uuid}</a>')\n",
    "    \n",
    "    # Highlight rows which need work\n",
    "    \n",
    "    for i, r in df_merged.iterrows():\n",
    "        if (r['bad collectors'] + r['bad locations'] + r['bad dates']) > 0:\n",
    "            summary_html = nth_repl(summary_html, '<tr', '<tr class=\"is-selected\"', i+2)  \n",
    "    \n",
    "    title_html = f'''\n",
    "        <p class=\"title is-1\">Insects of Guam Datamining Project</p>\n",
    "        <p class=\"subtitle is-3\">Status report generated by <b>validator2.ipynb</b> at {datetime.utcnow()} UTC</p>\n",
    "        <p>Highlited documents failed validation. Click on the **uuid** to see the validation report.</p>\n",
    "        '''\n",
    "\n",
    "    html = f'''\n",
    "        <html>\n",
    "            <header>\n",
    "                <meta charset=\"utf-8\">\n",
    "                <meta name=\"viewport\" content=\"width=device-width, initial-scale=1\">\n",
    "                <title>mat_cit_chk</title>\n",
    "                <link rel=\"stylesheet\" href=\"https://cdn.jsdelivr.net/npm/bulma@0.9.3/css/bulma.min.css\">\n",
    "            </header>\n",
    "            <body>\n",
    "                <section class=\"section\">\n",
    "                    <div class=\"container\">\n",
    "                        {title_html}\n",
    "                        {summary_html}\n",
    "                    </div>\n",
    "                </section>\n",
    "            </body>\n",
    "        </html>        \n",
    "        '''\n",
    "    with open('status_report.html', 'w') as f:\n",
    "        f.write(html) \n",
    "        \n",
    "# create_status_report()"
   ]
  },
  {
   "cell_type": "raw",
   "id": "1551fdf3-6862-4721-b8c2-dc1538227925",
   "metadata": {
    "papermill": {
     "duration": 0.007027,
     "end_time": "2022-01-20T20:00:03.208649",
     "exception": false,
     "start_time": "2022-01-20T20:00:03.201622",
     "status": "completed"
    },
    "tags": []
   },
   "source": [
    "%%time\n",
    "\n",
    "def get_dwca(uuid):\n",
    "    \"\"\"\n",
    "    Downloads a Darwin core archive from the GGI server, unzips it. \n",
    "    \"\"\"\n",
    "    dwca_url = f'http://tb.plazi.org/GgServer/dwca/{uuid}.zip'\n",
    "    dwca_file = f'{uuid}.zip'\n",
    "\n",
    "    # download the DwCA into the current working directory, \n",
    "    # overwriting any previous DwCA with same uuid\n",
    "\n",
    "    command = f'wget -O {dwca_file} {dwca_url}'\n",
    "    result = os.system(command)\n",
    "    assert result==0, f'{command} failed'\n",
    "\n",
    "    # unzip the DwCA, overwriting files:\n",
    "    #   meta.xml, eml.xml, taxa.txt, occurrences.txt, multimedia.txt, description.txt, distribution.txt, \n",
    "    #   media.txt, references.txt, vernaculars.txt\n",
    "\n",
    "    command = f'unzip -o {dwca_file}'\n",
    "    result = os.system(command)\n",
    "    assert result==0, f'{command} failed'  \n",
    "\n",
    "    command = f'unzip -o {dwca_file}'\n",
    "    result = os.system(command)\n",
    "    assert result==0, f'{command} failed'  \n",
    "\n",
    "# get_dwca('FE566D11FFD2FFF5383F9056FFE3FFEF')"
   ]
  },
  {
   "cell_type": "code",
   "execution_count": 8,
   "id": "3cb6655f-e04b-4853-94c2-92814f769b5e",
   "metadata": {
    "execution": {
     "iopub.execute_input": "2022-01-20T20:00:03.230573Z",
     "iopub.status.busy": "2022-01-20T20:00:03.230236Z",
     "iopub.status.idle": "2022-01-20T20:00:03.232223Z",
     "shell.execute_reply": "2022-01-20T20:00:03.231916Z"
    },
    "papermill": {
     "duration": 0.016138,
     "end_time": "2022-01-20T20:00:03.232291",
     "exception": false,
     "start_time": "2022-01-20T20:00:03.216153",
     "status": "completed"
    },
    "tags": []
   },
   "outputs": [
    {
     "name": "stdout",
     "output_type": "stream",
     "text": [
      "CPU times: user 1e+03 ns, sys: 1 µs, total: 2 µs\n",
      "Wall time: 4.53 µs\n"
     ]
    }
   ],
   "source": [
    "%%time\n",
    "\n",
    "def validate_dwca(uuid):\n",
    "    \"\"\"\n",
    "    Downloads a Darwin core archive from the GGI server, unzips it. \n",
    "    \n",
    "    Summary saved to \n",
    "    \"\"\"\n",
    "    dwca_url = f'http://tb.plazi.org/GgServer/dwca/{uuid}.zip'\n",
    "    dwca_file = f'{uuid}.zip'\n",
    "\n",
    "    # download the DwCA into the current working directory, \n",
    "    # overwriting any previous DwCA with same uuid\n",
    "\n",
    "    command = f'wget -O {dwca_file} {dwca_url}'\n",
    "    result = os.system(command)\n",
    "    assert result==0, f'{command} failed'\n",
    "\n",
    "    # unzip the DwCA, overwriting files:  \n",
    "    #   meta.xml, eml.xml, taxa.txt, occurrences.txt, multimedia.txt, description.txt, distribution.txt, \n",
    "    #   media.txt, references.txt, vernaculars.txt\n",
    "\n",
    "    command = f'unzip -o {dwca_file}'\n",
    "    result = os.system(command)\n",
    "    assert result==0, f'{command} failed'  \n",
    "    \n",
    "    # delete zip file\n",
    "\n",
    "    command = f'rm {dwca_file}'\n",
    "    result = os.system(command)\n",
    "    assert result==0, f'{command} failed'  \n",
    "       \n",
    "    taxon_df = pd.read_csv('taxa.txt', sep='\\t')\n",
    "    occ_df = pd.read_csv('occurrences.txt', sep='\\t') \n",
    "    occ_df.eventDate = occ_df.eventDate.astype(str)\n",
    "\n",
    "    merged_df = taxon_df.merge(right=occ_df, on='taxonID')\n",
    "    assert merged_df.shape[0]==occ_df.shape[0],'merged_df does not have same number of records as occ_df'\n",
    "    \n",
    "    merged_df = merged_df[['canonicalName','country','locality','recordedBy','eventDate']]\n",
    "    \n",
    "    merged_df['valid_eventDate'] = merged_df['eventDate'].str[:4].isin(date_list)\n",
    "    merged_df['valid_recordedBy'] = merged_df['recordedBy'].isin(author_list)\n",
    "    merged_df['valid_locality'] = merged_df['locality'].isin(locality_list)\n",
    "    merged_df['valid_country'] = merged_df['country'].isin(country_list)\n",
    "\n",
    "    # title_html\n",
    "    \n",
    "    s = '<p class=\"title is-1\">Insects of Guam Datamining Project</p>\\n'\n",
    "    title = df[df[\"uuid\"]==uuid][\"title\"].to_list()[0]\n",
    "    s += f'<p class=\"subtitle is-3\">{title}</p>\\n'\n",
    "    s += f'<p><b>Darwin Core Archive:</b> <a href=\"{dwca_url}\">{dwca_url}</a></p>\\n'\n",
    "    s += f'<p>Generated by <b>validator2.ipynb</b> at {datetime.utcnow()} UTC</p>\\n'\n",
    "    title_html = s\n",
    "    \n",
    "    # results_html\n",
    "    \n",
    "    s = '<table class=\"table\">\\n'\n",
    "    s += '<thead>\\n'\n",
    "    s += '<tr>\\n'\n",
    "    s += '<th>canonicalName</th>\\n'\n",
    "    s += '<th>country</th>\\n'\n",
    "    s += '<th>locality</th>\\n'\n",
    "    s += '<th>recordedBy</th>\\n'\n",
    "    s += '<th>eventDate</th>\\n'\n",
    "    s += '</tr>\\n'\n",
    "    s += '</thead>\\n'\n",
    "    \n",
    "    for i,r in merged_df.iterrows():\n",
    "        s += '<tr>\\n'\n",
    "        s += f'<td><i>{r.canonicalName}</i></td>\\n'\n",
    "        \n",
    "        if r.valid_country:\n",
    "            s += f'<td>{r.country}</td>\\n'\n",
    "        else:\n",
    "            s += f'<td class=\"is-selected\">{r.country}</td>\\n'\n",
    "            \n",
    "        if r.valid_locality:\n",
    "            s += f'<td>{r.locality}</td>\\n'\n",
    "        else:\n",
    "            s += f'<td class=\"is-selected\">{r.locality}</td>\\n'\n",
    "                        \n",
    "        if r.valid_recordedBy:\n",
    "            s += f'<td>{r.recordedBy}</td>\\n'\n",
    "        else:\n",
    "            s += f'<td class=\"is-selected\">{r.recordedBy}</td>\\n'\n",
    "            \n",
    "        if r.valid_eventDate:\n",
    "            s += f'<td>{r.eventDate}</td>\\n'\n",
    "        else:\n",
    "            s += f'<td class=\"is-selected\">{r.eventDate}</td>\\n'\n",
    "            \n",
    "        s += '</tr>\\n'\n",
    "    s += '</table>\\n'\n",
    "    results_html = s\n",
    "    \n",
    "    # summary_html\n",
    "\n",
    "    summary_dict = {}\n",
    "    summary_dict['title'] = title\n",
    "    summary_dict['uuid'] = uuid\n",
    "    summary_dict['n_materials_citations'] = merged_df.shape[0]\n",
    "    summary_dict['n_treatments'] = len(pd.unique(merged_df['canonicalName']))    \n",
    "    summary_dict['n_invalid_country'] = merged_df[merged_df['valid_country']==False].shape[0]\n",
    "    summary_dict['n_invalid_locality'] = merged_df[merged_df['valid_locality']==False].shape[0]\n",
    "    summary_dict['n_invalid_recordedBy'] = merged_df[merged_df['valid_recordedBy']==False].shape[0]\n",
    "    summary_dict['n_invalid_eventDate'] = merged_df[merged_df['valid_eventDate']==False].shape[0] \n",
    "    print(summary_dict)\n",
    "\n",
    "    s = '<table class=\"table\">\\n'\n",
    "    s += '<thead>\\n'\n",
    "    s += '<tr>\\n'\n",
    "    s += '<th>treatments</th>\\n'\n",
    "    s += '<th>materials_citations</th>\\n'\n",
    "    s += '<th>invalid_country</th>\\n'\n",
    "    s += '<th>invalid_locality</th>\\n'\n",
    "    s += '<th>invalid_recordedBy</th>\\n'\n",
    "    s += '<th>invalid_eventDate</th>\\n'\n",
    "    s += '</tr>\\n'\n",
    "    s += '</thead>\\n'\n",
    "    s += '<tr>\\n'\n",
    "    s += f'<td>{summary_dict[\"n_treatments\"]}</td>\\n'    \n",
    "    s += f'<td>{summary_dict[\"n_materials_citations\"]}</td>\\n'    \n",
    "    \n",
    "    for x in ['n_invalid_country', 'n_invalid_locality', 'n_invalid_recordedBy', 'n_invalid_eventDate']:\n",
    "        if summary_dict[x] == 0:\n",
    "            s += f'<td>{summary_dict[x]}</td>\\n'\n",
    "        else:\n",
    "            s += f'<td class=\"is-selected\">{summary_dict[x]}</td>\\n'\n",
    "       \n",
    "    s += '</tr>\\n'\n",
    "    s += '</table>'\n",
    "   \n",
    "    summary_html = s\n",
    "       \n",
    "    # Write the validation report\n",
    "    \n",
    "    timestamp = datetime.utcnow()\n",
    "    html = f'''\n",
    "        <html>\n",
    "            <header>\n",
    "                <meta charset=\"utf-8\">\n",
    "                <meta name=\"viewport\" content=\"width=device-width, initial-scale=1\">\n",
    "                <title>validator2</title>\n",
    "                <link rel=\"stylesheet\" href=\"https://cdn.jsdelivr.net/npm/bulma@0.9.3/css/bulma.min.css\">\n",
    "            </header>\n",
    "            <body>\n",
    "                <section class=\"section\">\n",
    "                    <div class=\"container\">\n",
    "                        {title_html}\n",
    "                        {summary_html}\n",
    "                        {results_html}\n",
    "                    </div>\n",
    "                </section>\n",
    "            </body>\n",
    "        </html>        \n",
    "        '''\n",
    "    with open(f'{uuid}.html', 'w') as f:\n",
    "        f.write(html)        \n",
    "            \n",
    "    return summary_dict\n",
    "\n",
    "# validate_dwca('FE566D11FFD2FFF5383F9056FFE3FFEF')"
   ]
  },
  {
   "cell_type": "code",
   "execution_count": 9,
   "id": "c64d240a-1d9c-4e47-aad6-c9b55e83cac1",
   "metadata": {
    "execution": {
     "iopub.execute_input": "2022-01-20T20:00:03.251743Z",
     "iopub.status.busy": "2022-01-20T20:00:03.251395Z",
     "iopub.status.idle": "2022-01-20T20:00:03.253280Z",
     "shell.execute_reply": "2022-01-20T20:00:03.252979Z"
    },
    "papermill": {
     "duration": 0.013402,
     "end_time": "2022-01-20T20:00:03.253346",
     "exception": false,
     "start_time": "2022-01-20T20:00:03.239944",
     "status": "completed"
    },
    "tags": []
   },
   "outputs": [
    {
     "name": "stdout",
     "output_type": "stream",
     "text": [
      "CPU times: user 3 µs, sys: 0 ns, total: 3 µs\n",
      "Wall time: 5.01 µs\n"
     ]
    }
   ],
   "source": [
    "%%time\n",
    "\n",
    "def generate_status_report(summary_list):\n",
    "    \n",
    "    # controlled_vocabularie_html\n",
    "\n",
    "    s = '<p class=\"title is-3\">Controlled vocabularies\\n'\n",
    "\n",
    "    s += '<p class=\"title is-4\">Country</p>\\n'\n",
    "    for i in sorted(country_list):\n",
    "        s += f'<p>{i}</p>\\n'\n",
    "    s += '<br><br>'\n",
    "\n",
    "    s += '<p class=\"title is-4\">Locality</p>\\n'\n",
    "    for i in sorted(locality_list):\n",
    "        s += f'<p>{i}</p>\\n'\n",
    "    s += '<br><br>'\n",
    "\n",
    "    s += '<p class=\"title is-4\">recordedBy</p>\\n'\n",
    "    for i in sorted(author_list):\n",
    "        s += f'<p>{i}</p>\\n'\n",
    "    s += '<br><br>'\n",
    "\n",
    "    s += '<p class=\"title is-4\">eventDate (valid years)</p>\\n'\n",
    "    for i in sorted(date_list):\n",
    "        s += f'<p>{i}</p>\\n'\n",
    "    s += '<br><br>'\n",
    "        \n",
    "    controlled_vocabularies_html = s\n",
    "\n",
    "    # title_html\n",
    "\n",
    "    s = '<p class=\"title is-1\">Insects of Guam Datamining Project</p>\\n'\n",
    "    s += f'<p class=\"subtitle is-3\">Status report</p>\\n'\n",
    "    s += f'<p>Generated by <b>validator2.ipynb</b> at {datetime.utcnow()} UTC</p>'\n",
    "    s += '<p>Data are check against controlled vocabularies listed at the bottom of this report. Currently, these lists are maintained within <b>validator2.ipynb</b></p>\\n'\n",
    "    s += '<p>Click on a <b>uuid</b> to see validation results for the corresponding chapter.</p>'\n",
    "    title_html = s\n",
    "\n",
    "    # table_html\n",
    "\n",
    "    s = '<table class=\"table\">\\n'\n",
    "    s += '<thead>\\n'\n",
    "    s += '<tr>\\n'\n",
    "    s += '<th>uuid</th>\\n'\n",
    "    s += '<th>title</th>\\n'\n",
    "    s += '<th>treatments</th>\\n'\n",
    "    s += '<th>materials_citations</th>\\n'\n",
    "    s += '<th>invalid_country</th>\\n'\n",
    "    s += '<th>invalid_locality</th>\\n'\n",
    "    s += '<th>invalid_recordedBy</th>\\n'\n",
    "    s += '<th>invalid_eventDate</th>\\n'\n",
    "    s += '</tr>\\n'\n",
    "    s += '</thead>\\n'\n",
    "\n",
    "    for d in summary_list:\n",
    "        uuid = d['uuid']\n",
    "        s += '<tr>\\n'\n",
    "        s += f'<td><a href=\"{uuid}.html\">{uuid}</td>\\n' # link to validation report for this uuid\n",
    "        s += f'<td>{d[\"title\"]}</td>\\n'\n",
    "        s += f'<td>{d[\"n_treatments\"]}</td>\\n'    \n",
    "        s += f'<td>{d[\"n_materials_citations\"]}</td>\\n'    \n",
    "\n",
    "        for x in ['n_invalid_country', 'n_invalid_locality', 'n_invalid_recordedBy', 'n_invalid_eventDate']:\n",
    "            if d[x] == 0:\n",
    "                s += f'<td>{d[x]}</td>\\n'\n",
    "            else:\n",
    "                s += f'<td class=\"is-selected\">{d[x]}</td>\\n'\n",
    "\n",
    "        s += '</tr>\\n'\n",
    "    s += '</table>'\n",
    "    table_html = s\n",
    "\n",
    "    # Write the validation report\n",
    "\n",
    "    timestamp = datetime.utcnow()\n",
    "    html = f'''\n",
    "        <html>\n",
    "            <header>\n",
    "                <meta charset=\"utf-8\">\n",
    "                <meta name=\"viewport\" content=\"width=device-width, initial-scale=1\">\n",
    "                <title>validator2</title>\n",
    "                <link rel=\"stylesheet\" href=\"https://cdn.jsdelivr.net/npm/bulma@0.9.3/css/bulma.min.css\">\n",
    "            </header>\n",
    "            <body>\n",
    "                <section class=\"section\">\n",
    "                    <div class=\"container\">\n",
    "                        {title_html}\n",
    "                        {table_html}\n",
    "                        {controlled_vocabularies_html}\n",
    "                    </div>\n",
    "                </section>\n",
    "            </body>\n",
    "        </html>        \n",
    "        '''\n",
    "    with open(f'status_report.html', 'w') as f:\n",
    "        f.write(html)           "
   ]
  },
  {
   "cell_type": "code",
   "execution_count": 10,
   "id": "fe987296-5243-46cf-9067-6ec9e6289d50",
   "metadata": {
    "execution": {
     "iopub.execute_input": "2022-01-20T20:00:03.270665Z",
     "iopub.status.busy": "2022-01-20T20:00:03.270360Z",
     "iopub.status.idle": "2022-01-20T20:00:03.272123Z",
     "shell.execute_reply": "2022-01-20T20:00:03.271821Z"
    },
    "papermill": {
     "duration": 0.011588,
     "end_time": "2022-01-20T20:00:03.272187",
     "exception": false,
     "start_time": "2022-01-20T20:00:03.260599",
     "status": "completed"
    },
    "tags": []
   },
   "outputs": [],
   "source": [
    "def cleanup():\n",
    "    files = ['meta.xml', 'eml.xml', 'taxa.txt', 'occurrences.txt', 'multimedia.txt', 'description.txt', 'distribution.txt', 'media.txt', 'references.txt', 'vernaculars.txt']\n",
    "    for f in files:\n",
    "        if os.path.exists(f):\n",
    "            os.remove(f)\n",
    "            \n",
    "cleanup()"
   ]
  },
  {
   "cell_type": "code",
   "execution_count": 11,
   "id": "2a3047a8-876c-4d6a-844f-ae7c2dcb8a9f",
   "metadata": {
    "execution": {
     "iopub.execute_input": "2022-01-20T20:00:03.293945Z",
     "iopub.status.busy": "2022-01-20T20:00:03.289717Z"
    },
    "papermill": {
     "duration": null,
     "end_time": null,
     "exception": false,
     "start_time": "2022-01-20T20:00:03.279715",
     "status": "running"
    },
    "tags": []
   },
   "outputs": [
    {
     "name": "stdout",
     "output_type": "stream",
     "text": [
      "Validating\n"
     ]
    },
    {
     "name": "stdout",
     "output_type": "stream",
     "text": [
      "{'title': 'Strepsiptera of Guam', 'uuid': 'FFF07216FFA41642FFBAFFE7FFCA482A', 'n_materials_citations': 2, 'n_treatments': 1, 'n_invalid_country': 0, 'n_invalid_locality': 0, 'n_invalid_recordedBy': 0, 'n_invalid_eventDate': 0}\n"
     ]
    },
    {
     "name": "stdout",
     "output_type": "stream",
     "text": [
      "{'title': 'Halictine Bees from Rota Island', 'uuid': 'A676FD1EF22D3F34FF8F8907FFDAFC58', 'n_materials_citations': 3, 'n_treatments': 3, 'n_invalid_country': 0, 'n_invalid_locality': 0, 'n_invalid_recordedBy': 0, 'n_invalid_eventDate': 0}\n"
     ]
    },
    {
     "name": "stdout",
     "output_type": "stream",
     "text": [
      "{'title': 'Aphididae and Aleurodidae Of Guam', 'uuid': 'FF8CA776FF947F25FF920C4AFFF5FF0F', 'n_materials_citations': 9, 'n_treatments': 4, 'n_invalid_country': 0, 'n_invalid_locality': 0, 'n_invalid_recordedBy': 0, 'n_invalid_eventDate': 0}\n"
     ]
    },
    {
     "name": "stdout",
     "output_type": "stream",
     "text": [
      "{'title': 'Isoptera of Guam', 'uuid': 'FFDEFF89B713A955FFD59822FF8CFF82', 'n_materials_citations': 6, 'n_treatments': 3, 'n_invalid_country': 0, 'n_invalid_locality': 0, 'n_invalid_recordedBy': 0, 'n_invalid_eventDate': 0}\n"
     ]
    },
    {
     "name": "stdout",
     "output_type": "stream",
     "text": [
      "{'title': 'Ciidae of Guam', 'uuid': '6137FFB29C68FFD2FFB6585FFF92FFC4', 'n_materials_citations': 5, 'n_treatments': 4, 'n_invalid_country': 0, 'n_invalid_locality': 0, 'n_invalid_recordedBy': 0, 'n_invalid_eventDate': 0}\n"
     ]
    },
    {
     "name": "stdout",
     "output_type": "stream",
     "text": [
      "{'title': 'Sphingidae Of Guam', 'uuid': 'C5751610FFAD3E7CE078FFB1FFCFFF82', 'n_materials_citations': 15, 'n_treatments': 5, 'n_invalid_country': 0, 'n_invalid_locality': 0, 'n_invalid_recordedBy': 0, 'n_invalid_eventDate': 0}\n"
     ]
    },
    {
     "name": "stdout",
     "output_type": "stream",
     "text": [
      "{'title': 'Anthribidae Of Guam', 'uuid': 'AD79FFBAEA10FFDBFFFE8726FFBFFFFE', 'n_materials_citations': 34, 'n_treatments': 7, 'n_invalid_country': 0, 'n_invalid_locality': 0, 'n_invalid_recordedBy': 0, 'n_invalid_eventDate': 0}\n"
     ]
    },
    {
     "name": "stdout",
     "output_type": "stream",
     "text": [
      "{'title': 'Rhipiceridae Of Guam', 'uuid': 'FFECFFAC5917FF88FFDE5B1BFFC4FF9B', 'n_materials_citations': 9, 'n_treatments': 1, 'n_invalid_country': 0, 'n_invalid_locality': 0, 'n_invalid_recordedBy': 0, 'n_invalid_eventDate': 0}\n"
     ]
    },
    {
     "name": "stdout",
     "output_type": "stream",
     "text": [
      "{'title': 'Trypetidae, Otitidae, Helomyzidae, And Clusiidae of Guam (Diptera)', 'uuid': 'FFC7133C860D1213FFF18D1A5E327636', 'n_materials_citations': 28, 'n_treatments': 11, 'n_invalid_country': 0, 'n_invalid_locality': 0, 'n_invalid_recordedBy': 0, 'n_invalid_eventDate': 0}\n"
     ]
    },
    {
     "name": "stdout",
     "output_type": "stream",
     "text": [
      "{'title': 'Coleoptera, Staphylinidae Of Guam', 'uuid': 'FFF8B07B536B3042BD53344E0F0FFFD7', 'n_materials_citations': 14, 'n_treatments': 9, 'n_invalid_country': 0, 'n_invalid_locality': 0, 'n_invalid_recordedBy': 0, 'n_invalid_eventDate': 0}\n"
     ]
    },
    {
     "name": "stdout",
     "output_type": "stream",
     "text": [
      "{'title': 'Culicidae of Guam', 'uuid': '4125F147872BFF9DFFF5FFAC140DFF83', 'n_materials_citations': 10, 'n_treatments': 5, 'n_invalid_country': 0, 'n_invalid_locality': 0, 'n_invalid_recordedBy': 0, 'n_invalid_eventDate': 0}\n"
     ]
    },
    {
     "name": "stdout",
     "output_type": "stream",
     "text": [
      "{'title': 'Elaterid And Eucnemid Beetles Of Guam', 'uuid': 'BE7D4354FFEEFF8BFFBDFFBC0B359010', 'n_materials_citations': 17, 'n_treatments': 7, 'n_invalid_country': 0, 'n_invalid_locality': 0, 'n_invalid_recordedBy': 0, 'n_invalid_eventDate': 0}\n"
     ]
    },
    {
     "name": "stdout",
     "output_type": "stream",
     "text": [
      "{'title': 'Membracidae of Guam', 'uuid': 'FF86FFC39D5F6775A307302F3260421D', 'n_materials_citations': 15, 'n_treatments': 1, 'n_invalid_country': 0, 'n_invalid_locality': 0, 'n_invalid_recordedBy': 0, 'n_invalid_eventDate': 0}\n"
     ]
    },
    {
     "name": "stdout",
     "output_type": "stream",
     "text": [
      "{'title': 'Homoptera, Cercopidae of Guam', 'uuid': 'FFF49654F7692F7AFF85FFD7FFE1FFCA', 'n_materials_citations': 19, 'n_treatments': 3, 'n_invalid_country': 0, 'n_invalid_locality': 0, 'n_invalid_recordedBy': 0, 'n_invalid_eventDate': 0}\n"
     ]
    },
    {
     "name": "stdout",
     "output_type": "stream",
     "text": [
      "{'title': 'Barkbeetles of Guam', 'uuid': '8A034648715AFFEADD11FF809F446C3F', 'n_materials_citations': 28, 'n_treatments': 8, 'n_invalid_country': 0, 'n_invalid_locality': 0, 'n_invalid_recordedBy': 0, 'n_invalid_eventDate': 0}\n"
     ]
    },
    {
     "name": "stdout",
     "output_type": "stream",
     "text": [
      "{'title': 'Neuropteroid Insects from Guam', 'uuid': '9668142AFFAC355BFFD8FFF0FFC6FFA4', 'n_materials_citations': 65, 'n_treatments': 20, 'n_invalid_country': 5, 'n_invalid_locality': 5, 'n_invalid_recordedBy': 5, 'n_invalid_eventDate': 5}\n"
     ]
    },
    {
     "name": "stdout",
     "output_type": "stream",
     "text": [
      "{'title': 'Diptera, Tipulidae of Guam', 'uuid': 'FF82F923FF8F8849FFA5FF95FFD8C108', 'n_materials_citations': 26, 'n_treatments': 12, 'n_invalid_country': 0, 'n_invalid_locality': 0, 'n_invalid_recordedBy': 0, 'n_invalid_eventDate': 0}\n"
     ]
    },
    {
     "name": "stdout",
     "output_type": "stream",
     "text": [
      "{'title': 'Some New Species Of Nemocerous Diptera From Guam', 'uuid': '860DFFECFFDCFFF2FFF5FFD0FFC18147', 'n_materials_citations': 17, 'n_treatments': 8, 'n_invalid_country': 0, 'n_invalid_locality': 0, 'n_invalid_recordedBy': 0, 'n_invalid_eventDate': 0}\n"
     ]
    },
    {
     "name": "stdout",
     "output_type": "stream",
     "text": [
      "{'title': 'Orthoptera And Related Orders Orthoptera And Related Orders Of Guam', 'uuid': 'D04FFFF5FF9DFFF4BF68FFAAFFBBFFD8', 'n_materials_citations': 121, 'n_treatments': 22, 'n_invalid_country': 121, 'n_invalid_locality': 121, 'n_invalid_recordedBy': 121, 'n_invalid_eventDate': 121}\n"
     ]
    },
    {
     "name": "stdout",
     "output_type": "stream",
     "text": [
      "{'title': 'Hymenoptera Formicidae of Guam', 'uuid': 'F27607317E645A2FB552FF8416577654', 'n_materials_citations': 24, 'n_treatments': 23, 'n_invalid_country': 24, 'n_invalid_locality': 24, 'n_invalid_recordedBy': 24, 'n_invalid_eventDate': 24}\n"
     ]
    },
    {
     "name": "stdout",
     "output_type": "stream",
     "text": [
      "{'title': 'Hymenoptera, New Species Of Guam Chalcidoidea', 'uuid': 'FFD1FFF8FFF9FFB3FFC86E5DFFBE8B32', 'n_materials_citations': 24, 'n_treatments': 10, 'n_invalid_country': 24, 'n_invalid_locality': 22, 'n_invalid_recordedBy': 24, 'n_invalid_eventDate': 24}\n"
     ]
    },
    {
     "name": "stdout",
     "output_type": "stream",
     "text": [
      "{'title': 'Psyllidae from Guam', 'uuid': 'FFE68664BF23FFD1F70BFF81FFA1FFE4', 'n_materials_citations': 25, 'n_treatments': 5, 'n_invalid_country': 25, 'n_invalid_locality': 25, 'n_invalid_recordedBy': 25, 'n_invalid_eventDate': 25}\n"
     ]
    },
    {
     "name": "stdout",
     "output_type": "stream",
     "text": [
      "{'title': 'Wasps of Guam', 'uuid': 'B525F8594A7852476D53FFF00A6FFFD2', 'n_materials_citations': 30, 'n_treatments': 7, 'n_invalid_country': 30, 'n_invalid_locality': 30, 'n_invalid_recordedBy': 30, 'n_invalid_eventDate': 30}\n"
     ]
    },
    {
     "name": "stdout",
     "output_type": "stream",
     "text": [
      "{'title': 'New Longicorn Beetles From Guam (Cerambycidae)', 'uuid': 'FFE8E303585AA232FF96FFDCFFCADD26', 'n_materials_citations': 31, 'n_treatments': 7, 'n_invalid_country': 31, 'n_invalid_locality': 19, 'n_invalid_recordedBy': 31, 'n_invalid_eventDate': 31}\n"
     ]
    },
    {
     "name": "stdout",
     "output_type": "stream",
     "text": [
      "{'title': 'Thysanoptera: Thrips of Guam', 'uuid': 'FFDF7A4CFFF3FFC777195003DD64051A', 'n_materials_citations': 31, 'n_treatments': 22, 'n_invalid_country': 31, 'n_invalid_locality': 23, 'n_invalid_recordedBy': 31, 'n_invalid_eventDate': 30}\n"
     ]
    },
    {
     "name": "stdout",
     "output_type": "stream",
     "text": [
      "{'title': 'Bees of Guam', 'uuid': 'FE566D11FFD2FFF5383F9056FFE3FFEF', 'n_materials_citations': 31, 'n_treatments': 6, 'n_invalid_country': 0, 'n_invalid_locality': 0, 'n_invalid_recordedBy': 0, 'n_invalid_eventDate': 0}\n"
     ]
    },
    {
     "name": "stdout",
     "output_type": "stream",
     "text": [
      "{'title': 'ODONATA, DRAGONFLIES OF GUAM', 'uuid': 'FFDFF02AC57CFFB7FF89B354FF83F875', 'n_materials_citations': 36, 'n_treatments': 9, 'n_invalid_country': 36, 'n_invalid_locality': 36, 'n_invalid_recordedBy': 36, 'n_invalid_eventDate': 36}\n"
     ]
    },
    {
     "name": "stdout",
     "output_type": "stream",
     "text": [
      "{'title': 'SOME MISCELLANEOUS DIPTERA OF GUAM', 'uuid': 'B472FFEFFFAEFFB2A40BFFD9A227FFD1', 'n_materials_citations': 40, 'n_treatments': 17, 'n_invalid_country': 39, 'n_invalid_locality': 40, 'n_invalid_recordedBy': 40, 'n_invalid_eventDate': 39}\n"
     ]
    },
    {
     "name": "stdout",
     "output_type": "stream",
     "text": [
      "{'title': 'Coleoptera Heteromera From Guam', 'uuid': 'FFDAFFA2FFAEFFC88657F353FF92FFF8', 'n_materials_citations': 41, 'n_treatments': 11, 'n_invalid_country': 41, 'n_invalid_locality': 39, 'n_invalid_recordedBy': 41, 'n_invalid_eventDate': 41}\n"
     ]
    },
    {
     "name": "stdout",
     "output_type": "stream",
     "text": [
      "{'title': 'Homoptera, Fulgoroidea and Jassoidea of Guam', 'uuid': 'BD58FF95EB59FFFFFFB04B578875FD6D', 'n_materials_citations': 43, 'n_treatments': 27, 'n_invalid_country': 43, 'n_invalid_locality': 38, 'n_invalid_recordedBy': 41, 'n_invalid_eventDate': 43}\n"
     ]
    },
    {
     "name": "stdout",
     "output_type": "stream",
     "text": [
      "{'title': 'Ichneumonidae, Evaniidae, And Braconidae Of Guam', 'uuid': '6C420D32855DFFCA221EFFCCE940FF9E', 'n_materials_citations': 58, 'n_treatments': 20, 'n_invalid_country': 58, 'n_invalid_locality': 54, 'n_invalid_recordedBy': 58, 'n_invalid_eventDate': 58}\n"
     ]
    },
    {
     "name": "stdout",
     "output_type": "stream",
     "text": [
      "{'title': 'Coccidae of Guam', 'uuid': '0C07FFD2F91AFFFBFF82FF9EFFC41E3E', 'n_materials_citations': 60, 'n_treatments': 41, 'n_invalid_country': 60, 'n_invalid_locality': 60, 'n_invalid_recordedBy': 60, 'n_invalid_eventDate': 60}\n"
     ]
    },
    {
     "name": "stdout",
     "output_type": "stream",
     "text": [
      "{'title': 'Notes On Some Guam Chalcidoidea', 'uuid': '8F4F9461FF8AFFE4E503FFAC8F5EFFD2', 'n_materials_citations': 65, 'n_treatments': 43, 'n_invalid_country': 65, 'n_invalid_locality': 65, 'n_invalid_recordedBy': 65, 'n_invalid_eventDate': 65}\n"
     ]
    },
    {
     "name": "stdout",
     "output_type": "stream",
     "text": [
      "{'title': 'Lepidoptera, Butterflies of Guam', 'uuid': 'FF8A6512AA2D474D9945FF80FFCFFFAC', 'n_materials_citations': 66, 'n_treatments': 12, 'n_invalid_country': 66, 'n_invalid_locality': 66, 'n_invalid_recordedBy': 66, 'n_invalid_eventDate': 66}\n"
     ]
    },
    {
     "name": "stdout",
     "output_type": "stream",
     "text": [
      "{'title': 'Lepidoptera, Geometridae, Arctiidae, Agrotidae, and Pyralidae of Guam', 'uuid': 'FF8AFFC0E94BFFA1FFCF823D9276034F', 'n_materials_citations': 72, 'n_treatments': 54, 'n_invalid_country': 72, 'n_invalid_locality': 72, 'n_invalid_recordedBy': 72, 'n_invalid_eventDate': 72}\n"
     ]
    },
    {
     "name": "stdout",
     "output_type": "stream",
     "text": [
      "{'title': 'Curculionidae of Guam', 'uuid': '2A01FF71FFF051065F5BAF5AFFFAFF96', 'n_materials_citations': 74, 'n_treatments': 45, 'n_invalid_country': 64, 'n_invalid_locality': 69, 'n_invalid_recordedBy': 74, 'n_invalid_eventDate': 40}\n"
     ]
    },
    {
     "name": "stdout",
     "output_type": "stream",
     "text": [
      "{'title': 'Notes On Some Fulgoroidea Of Guam', 'uuid': 'FFAAFFEAFFDBFFCAFFFEFFCD8671FFE9', 'n_materials_citations': 76, 'n_treatments': 17, 'n_invalid_country': 76, 'n_invalid_locality': 76, 'n_invalid_recordedBy': 76, 'n_invalid_eventDate': 76}\n"
     ]
    },
    {
     "name": "stdout",
     "output_type": "stream",
     "text": [
      "{'title': 'Miscellaneous Families of Guam Coleoptera', 'uuid': 'CB52FF9DFFBE1B09FFDAFFB507064636', 'n_materials_citations': 96, 'n_treatments': 83, 'n_invalid_country': 96, 'n_invalid_locality': 94, 'n_invalid_recordedBy': 96, 'n_invalid_eventDate': 96}\n"
     ]
    },
    {
     "name": "stdout",
     "output_type": "stream",
     "text": [
      "{'title': 'Hemiptera Heteroptera of Guam', 'uuid': '1054DB21F50C3F6D4A60EF68FFE4C168', 'n_materials_citations': 169, 'n_treatments': 70, 'n_invalid_country': 145, 'n_invalid_locality': 87, 'n_invalid_recordedBy': 168, 'n_invalid_eventDate': 162}\n",
      "Generating status report\n",
      "Cleaning up\n",
      "Updating GitHub\n"
     ]
    }
   ],
   "source": [
    "%%time\n",
    "\n",
    "# MAIN\n",
    "\n",
    "df = read_dataset_list()\n",
    "\n",
    "# lets process the first 15 datasets\n",
    "\n",
    "# open_GGI()\n",
    "# login()\n",
    "\n",
    "# Validate each DwCA\n",
    "\n",
    "print('Validating')\n",
    "\n",
    "summary_list = []\n",
    "#uuids = list(df.iloc[0:5].uuid.values)\n",
    "uuids = list(df.uuid.values)\n",
    "for uuid in uuids:\n",
    "    summary_dict = validate_dwca(uuid)\n",
    "    summary_list.append(summary_dict)\n",
    "\n",
    "print('Generating status report')  \n",
    "generate_status_report(summary_list)\n",
    "\n",
    "print('Cleaning up')\n",
    "cleanup()\n",
    "\n",
    "print('Updating GitHub')\n",
    "update_github()\n",
    "        \n",
    "print('FINISHED')"
   ]
  },
  {
   "cell_type": "code",
   "execution_count": null,
   "id": "06052c16-ab4d-4c4f-a168-cb8248750d91",
   "metadata": {
    "papermill": {
     "duration": null,
     "end_time": null,
     "exception": null,
     "start_time": null,
     "status": "pending"
    },
    "tags": []
   },
   "outputs": [],
   "source": []
  }
 ],
 "metadata": {
  "kernelspec": {
   "display_name": "Python 3",
   "language": "python",
   "name": "python3"
  },
  "language_info": {
   "codemirror_mode": {
    "name": "ipython",
    "version": 3
   },
   "file_extension": ".py",
   "mimetype": "text/x-python",
   "name": "python",
   "nbconvert_exporter": "python",
   "pygments_lexer": "ipython3",
   "version": "3.8.8"
  },
  "papermill": {
   "default_parameters": {},
   "duration": null,
   "end_time": null,
   "environment_variables": {},
   "exception": null,
   "input_path": "validator2.ipynb",
   "output_path": "output.ipynb",
   "parameters": {},
   "start_time": "2022-01-20T20:00:01.779783",
   "version": "2.3.3"
  }
 },
 "nbformat": 4,
 "nbformat_minor": 5
}