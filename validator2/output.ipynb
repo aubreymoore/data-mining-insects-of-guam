{
 "cells": [
  {
   "cell_type": "markdown",
   "id": "e369909c-da83-4d18-a331-a235534528af",
   "metadata": {
    "papermill": {
     "duration": 0.010318,
     "end_time": "2022-04-17T06:02:02.161368",
     "exception": false,
     "start_time": "2022-04-17T06:02:02.151050",
     "status": "completed"
    },
    "tags": []
   },
   "source": [
    "# validator2\n",
    "\n",
    "This notebook validates materials citations annotation using Darwin core archives downloaded from GGI server. \n",
    "\n",
    "If my laptop is online, this Jupyter notebook will run during the second minute of every hour under this crontab entry:\n",
    "```\n",
    "2 * * * * ~/Desktop/data-mining-insects-of-guam/validator2/run_validator2.sh >~/Desktop/data-mining-insects-of-guam/validator2/run_validator2.log 2>&1\n",
    "```\n",
    "\n",
    "The bash file (run_validator2.sh) runs the notebook using **papermill**:\n",
    "```\n",
    "#!/bin/bash\n",
    "cd ~/Desktop/data-mining-insects-of-guam/validator2/\n",
    "/home/aubrey/.local/bin/papermill validator2.ipynb output.ipynb\n",
    "```"
   ]
  },
  {
   "cell_type": "code",
   "execution_count": 1,
   "id": "d8a8cdd5-ccf1-4804-9434-1c3bafb0a9eb",
   "metadata": {
    "execution": {
     "iopub.execute_input": "2022-04-17T06:02:02.180028Z",
     "iopub.status.busy": "2022-04-17T06:02:02.179686Z",
     "iopub.status.idle": "2022-04-17T06:02:02.397135Z",
     "shell.execute_reply": "2022-04-17T06:02:02.396800Z"
    },
    "papermill": {
     "duration": 0.227612,
     "end_time": "2022-04-17T06:02:02.397213",
     "exception": false,
     "start_time": "2022-04-17T06:02:02.169601",
     "status": "completed"
    },
    "tags": []
   },
   "outputs": [],
   "source": [
    "import time\n",
    "import pandas as pd\n",
    "import subprocess\n",
    "import re\n",
    "from datetime import datetime\n",
    "import os"
   ]
  },
  {
   "cell_type": "code",
   "execution_count": 2,
   "id": "e1733c09-0403-4e2f-9320-a172269c0563",
   "metadata": {
    "execution": {
     "iopub.execute_input": "2022-04-17T06:02:02.411601Z",
     "iopub.status.busy": "2022-04-17T06:02:02.411235Z",
     "iopub.status.idle": "2022-04-17T06:02:02.413250Z",
     "shell.execute_reply": "2022-04-17T06:02:02.412937Z"
    },
    "papermill": {
     "duration": 0.010654,
     "end_time": "2022-04-17T06:02:02.413320",
     "exception": false,
     "start_time": "2022-04-17T06:02:02.402666",
     "status": "completed"
    },
    "tags": []
   },
   "outputs": [],
   "source": [
    "# This list is currently maintained \"manually\".\n",
    "\n",
    "author_list = [\n",
    "    'A. Cruz',\n",
    "    'E. H. Bryan',\n",
    "    'E. H. Bryan and O. H. Swezey',\n",
    "    'T. E. Esaki',\n",
    "    'D. T. Fullaway',\n",
    "    'H. G. Hornbostel',\n",
    "    'R. G. Oakley',\n",
    "    'Z. Ono',\n",
    "    'O. H. Swezey',\n",
    "    'O. H. Swezey and R. L. Usinger',\n",
    "    'Rowley',\n",
    "    'R. L. Usinger',\n",
    "    'R. L. Usinger and O. H. Swezey',\n",
    "    'unknown',\n",
    "]"
   ]
  },
  {
   "cell_type": "code",
   "execution_count": 3,
   "id": "5cf07bac-6abf-4c76-9c88-ea55e945a70d",
   "metadata": {
    "execution": {
     "iopub.execute_input": "2022-04-17T06:02:02.426618Z",
     "iopub.status.busy": "2022-04-17T06:02:02.426312Z",
     "iopub.status.idle": "2022-04-17T06:02:02.428104Z",
     "shell.execute_reply": "2022-04-17T06:02:02.427803Z"
    },
    "papermill": {
     "duration": 0.010074,
     "end_time": "2022-04-17T06:02:02.428169",
     "exception": false,
     "start_time": "2022-04-17T06:02:02.418095",
     "status": "completed"
    },
    "tags": []
   },
   "outputs": [],
   "source": [
    "# This list is currently maintained \"manually\".\n",
    "\n",
    "locality_list = [\n",
    "    'Agana',\n",
    "    'Agana Swamp',\n",
    "    'Agat',\n",
    "    'Agfayan',\n",
    "    'Asan',\n",
    "    'Atao Beach',\n",
    "    'Barrigada',\n",
    "    'Dandan',\n",
    "    'Dededo',\n",
    "    'Fadian',\n",
    "    'Government House, Agana',\n",
    "    'Guam',\n",
    "    'Inarajan',\n",
    "    'Machanao',\n",
    "    'Mata',\n",
    "    'Merizo',\n",
    "    'Mogfog',\n",
    "    'Mt. Alifan',\n",
    "    'Mount Alifan',\n",
    "    'Mount Chachao',\n",
    "    'Mt. Sasalaguan',\n",
    "    'Mount Sasalaguan', \n",
    "    'Mount Tenjo',\n",
    "    'Orote Peninsula',\n",
    "    'Orote Point',\n",
    "    'Passan',\n",
    "    'Piti',\n",
    "    'Ritidian Point',\n",
    "    'Rota Island',\n",
    "    'Root School Farm',\n",
    "    'Santa Rosa Peak',\n",
    "    'Sumay Road',\n",
    "    'Tarague',\n",
    "    'Tarague Beach',\n",
    "    'Tumon',\n",
    "    'Umatac',\n",
    "    'Upi Trail',\n",
    "    'Yigo',\n",
    "    'Yona',\n",
    "    'Atantano',\n",
    "    'Talofofo',\n",
    "    'Libugon Farm',\n",
    "    'Sumay',\n",
    "    'Fonte Valley',\n",
    "    'Ponape',\n",
    "    'Ponape, Mount Nanalaut',\n",
    "    'Ponape, Nipit-Ninoani',\n",
    "    'Ponape, Kolonia-Nat',\n",
    "    'Babelthaup, Marukyoku',\n",
    "    'Kusaie, Mount Wakapp',\n",
    "]"
   ]
  },
  {
   "cell_type": "code",
   "execution_count": 4,
   "id": "cd7e3470-06be-4855-9c2b-93906e48c8b3",
   "metadata": {
    "execution": {
     "iopub.execute_input": "2022-04-17T06:02:02.439698Z",
     "iopub.status.busy": "2022-04-17T06:02:02.439339Z",
     "iopub.status.idle": "2022-04-17T06:02:02.441022Z",
     "shell.execute_reply": "2022-04-17T06:02:02.440709Z"
    },
    "papermill": {
     "duration": 0.008338,
     "end_time": "2022-04-17T06:02:02.441091",
     "exception": false,
     "start_time": "2022-04-17T06:02:02.432753",
     "status": "completed"
    },
    "tags": []
   },
   "outputs": [],
   "source": [
    "date_list = [\n",
    "    '1911',\n",
    "    '1925',\n",
    "    '1936',\n",
    "    '1937',\n",
    "    '1938',\n",
    "    '1939',\n",
    "]"
   ]
  },
  {
   "cell_type": "code",
   "execution_count": 5,
   "id": "b562a34e-a316-4b6e-a20d-45fd7d9f2f3e",
   "metadata": {
    "execution": {
     "iopub.execute_input": "2022-04-17T06:02:02.453003Z",
     "iopub.status.busy": "2022-04-17T06:02:02.452694Z",
     "iopub.status.idle": "2022-04-17T06:02:02.454445Z",
     "shell.execute_reply": "2022-04-17T06:02:02.454128Z"
    },
    "papermill": {
     "duration": 0.008598,
     "end_time": "2022-04-17T06:02:02.454516",
     "exception": false,
     "start_time": "2022-04-17T06:02:02.445918",
     "status": "completed"
    },
    "tags": []
   },
   "outputs": [],
   "source": [
    "country_list = [\n",
    "    'Guam',\n",
    "    'Northern Mariana Islands',\n",
    "    'Palau',\n",
    "    'Micronesia (Federated States of)',\n",
    "]"
   ]
  },
  {
   "cell_type": "code",
   "execution_count": 6,
   "id": "27e1808f",
   "metadata": {
    "execution": {
     "iopub.execute_input": "2022-04-17T06:02:02.468264Z",
     "iopub.status.busy": "2022-04-17T06:02:02.467936Z",
     "iopub.status.idle": "2022-04-17T06:02:02.469648Z",
     "shell.execute_reply": "2022-04-17T06:02:02.469372Z"
    },
    "papermill": {
     "duration": 0.010219,
     "end_time": "2022-04-17T06:02:02.469719",
     "exception": false,
     "start_time": "2022-04-17T06:02:02.459500",
     "status": "completed"
    },
    "tags": []
   },
   "outputs": [],
   "source": [
    "def read_dataset_list():\n",
    "    '''\n",
    "    Reads ../dataset-list.md and returns a pandas dataframe\n",
    "    '''\n",
    "    \n",
    "    df = pd.read_table('../dataset-list.md', sep=\"|\", header=0, skipinitialspace=True)\n",
    "\n",
    "    # Drop the left-most and right-most null columns \n",
    "    \n",
    "    df = df.dropna(axis=1, how='all')\n",
    "\n",
    "    # Drop the header underline row\n",
    "    \n",
    "    df = df.iloc[1:]  \n",
    "\n",
    "    # Strip whitespace from end of strings\n",
    "    \n",
    "    df = df.applymap(lambda x: x.strip() if isinstance(x, str) else x)\n",
    "\n",
    "    # Strip whitespace from end of column headers\n",
    "    \n",
    "    df.columns = df.columns.str.strip()\n",
    "\n",
    "    # Drop datasets with no title - we don't need to process these\n",
    "    \n",
    "    df = df.drop(df[df.title == 'no title'].index)\n",
    "    return df\n",
    "\n",
    "# read_dataset_list()"
   ]
  },
  {
   "cell_type": "code",
   "execution_count": 7,
   "id": "4aea1a8e-d747-47e7-ac51-76e1ed614349",
   "metadata": {
    "execution": {
     "iopub.execute_input": "2022-04-17T06:02:02.482686Z",
     "iopub.status.busy": "2022-04-17T06:02:02.482371Z",
     "iopub.status.idle": "2022-04-17T06:02:02.484437Z",
     "shell.execute_reply": "2022-04-17T06:02:02.484160Z"
    },
    "papermill": {
     "duration": 0.009684,
     "end_time": "2022-04-17T06:02:02.484506",
     "exception": false,
     "start_time": "2022-04-17T06:02:02.474822",
     "status": "completed"
    },
    "tags": []
   },
   "outputs": [
    {
     "name": "stdout",
     "output_type": "stream",
     "text": [
      "CPU times: user 1 µs, sys: 1e+03 ns, total: 2 µs\n",
      "Wall time: 4.29 µs\n"
     ]
    }
   ],
   "source": [
    "%%time\n",
    "\n",
    "def update_github():\n",
    "    command = f'./update_github.sh'\n",
    "    result = os.system(command)\n",
    "    assert result==0, f'{command} failed'  \n",
    "\n",
    "# update_github()"
   ]
  },
  {
   "cell_type": "code",
   "execution_count": 8,
   "id": "3cb6655f-e04b-4853-94c2-92814f769b5e",
   "metadata": {
    "execution": {
     "iopub.execute_input": "2022-04-17T06:02:02.501919Z",
     "iopub.status.busy": "2022-04-17T06:02:02.501564Z",
     "iopub.status.idle": "2022-04-17T06:02:02.503423Z",
     "shell.execute_reply": "2022-04-17T06:02:02.503139Z"
    },
    "papermill": {
     "duration": 0.013773,
     "end_time": "2022-04-17T06:02:02.503492",
     "exception": false,
     "start_time": "2022-04-17T06:02:02.489719",
     "status": "completed"
    },
    "tags": []
   },
   "outputs": [
    {
     "name": "stdout",
     "output_type": "stream",
     "text": [
      "CPU times: user 2 µs, sys: 0 ns, total: 2 µs\n",
      "Wall time: 4.29 µs\n"
     ]
    }
   ],
   "source": [
    "%%time\n",
    "\n",
    "def validate_dwca(uuid):\n",
    "    \"\"\"\n",
    "    Downloads a Darwin core archive from the GGI server, unzips it. \n",
    "    \n",
    "    Summary saved to <uuid>.html\n",
    "    \"\"\"\n",
    "    dwca_url = f'http://tb.plazi.org/GgServer/dwca/{uuid}.zip'\n",
    "    dwca_file = f'{uuid}.zip'\n",
    "\n",
    "    # download the DwCA into the current working directory, \n",
    "    # overwriting any previous DwCA with same uuid\n",
    "\n",
    "    command = f'wget -O {dwca_file} {dwca_url}'\n",
    "    result = os.system(command)\n",
    "    assert result==0, f'{command} failed'\n",
    "\n",
    "    # unzip the DwCA, overwriting files:  \n",
    "    #   meta.xml, eml.xml, taxa.txt, occurrences.txt, multimedia.txt, description.txt, distribution.txt, \n",
    "    #   media.txt, references.txt, vernaculars.txt\n",
    "\n",
    "    command = f'unzip -o {dwca_file}'\n",
    "    result = os.system(command)\n",
    "    assert result==0, f'{command} failed'  \n",
    "    \n",
    "    # delete zip file\n",
    "\n",
    "    command = f'rm {dwca_file}'\n",
    "    result = os.system(command)\n",
    "    assert result==0, f'{command} failed'  \n",
    "       \n",
    "    taxon_df = pd.read_csv('taxa.txt', sep='\\t')\n",
    "    occ_df = pd.read_csv('occurrences.txt', sep='\\t') \n",
    "    occ_df.eventDate = occ_df.eventDate.astype(str)\n",
    "\n",
    "    merged_df = taxon_df.merge(right=occ_df, on='taxonID')\n",
    "    assert merged_df.shape[0]==occ_df.shape[0],'merged_df does not have same number of records as occ_df'\n",
    "    \n",
    "    merged_df = merged_df[['canonicalName','country','locality','recordedBy','eventDate']]\n",
    "    \n",
    "    merged_df['valid_eventDate'] = merged_df['eventDate'].str[:4].isin(date_list)\n",
    "    merged_df['valid_recordedBy'] = merged_df['recordedBy'].isin(author_list)\n",
    "    merged_df['valid_locality'] = merged_df['locality'].isin(locality_list)\n",
    "    merged_df['valid_country'] = merged_df['country'].isin(country_list)\n",
    "\n",
    "    # title_html\n",
    "    \n",
    "    s = '<p class=\"title is-1\">Insects of Guam Datamining Project</p>\\n'\n",
    "    title = df[df[\"uuid\"]==uuid][\"title\"].to_list()[0]\n",
    "    s += f'<p class=\"subtitle is-3\">{title}</p>\\n'\n",
    "    s += f'<p><b>Darwin Core Archive:</b> <a href=\"{dwca_url}\">{dwca_url}</a></p>\\n'\n",
    "    s += f'<p>Generated by <b>validator2.ipynb</b> at {datetime.utcnow()} UTC</p>\\n'\n",
    "    title_html = s\n",
    "    \n",
    "    # results_html\n",
    "    \n",
    "    s = '<table class=\"table\">\\n'\n",
    "    s += '<thead>\\n'\n",
    "    s += '<tr>\\n'\n",
    "    s += '<th>canonicalName</th>\\n'\n",
    "    s += '<th>country</th>\\n'\n",
    "    s += '<th>locality</th>\\n'\n",
    "    s += '<th>recordedBy</th>\\n'\n",
    "    s += '<th>eventDate</th>\\n'\n",
    "    s += '</tr>\\n'\n",
    "    s += '</thead>\\n'\n",
    "    \n",
    "    for i,r in merged_df.iterrows():\n",
    "        s += '<tr>\\n'\n",
    "        s += f'<td><i>{r.canonicalName}</i></td>\\n'\n",
    "        \n",
    "        if r.valid_country:\n",
    "            s += f'<td>{r.country}</td>\\n'\n",
    "        else:\n",
    "            s += f'<td class=\"is-selected\">{r.country}</td>\\n'\n",
    "            \n",
    "        if r.valid_locality:\n",
    "            s += f'<td>{r.locality}</td>\\n'\n",
    "        else:\n",
    "            s += f'<td class=\"is-selected\">{r.locality}</td>\\n'\n",
    "                        \n",
    "        if r.valid_recordedBy:\n",
    "            s += f'<td>{r.recordedBy}</td>\\n'\n",
    "        else:\n",
    "            s += f'<td class=\"is-selected\">{r.recordedBy}</td>\\n'\n",
    "            \n",
    "        if r.valid_eventDate:\n",
    "            s += f'<td>{r.eventDate}</td>\\n'\n",
    "        else:\n",
    "            s += f'<td class=\"is-selected\">{r.eventDate}</td>\\n'\n",
    "            \n",
    "        s += '</tr>\\n'\n",
    "    s += '</table>\\n'\n",
    "    results_html = s\n",
    "    \n",
    "    # summary_html\n",
    "\n",
    "    summary_dict = {}\n",
    "    summary_dict['title'] = title\n",
    "    summary_dict['uuid'] = uuid\n",
    "    summary_dict['n_materials_citations'] = merged_df.shape[0]\n",
    "    summary_dict['n_treatments'] = len(pd.unique(merged_df['canonicalName']))    \n",
    "    summary_dict['n_invalid_country'] = merged_df[merged_df['valid_country']==False].shape[0]\n",
    "    summary_dict['n_invalid_locality'] = merged_df[merged_df['valid_locality']==False].shape[0]\n",
    "    summary_dict['n_invalid_recordedBy'] = merged_df[merged_df['valid_recordedBy']==False].shape[0]\n",
    "    summary_dict['n_invalid_eventDate'] = merged_df[merged_df['valid_eventDate']==False].shape[0] \n",
    "    print(summary_dict)\n",
    "\n",
    "    s = '<table class=\"table\">\\n'\n",
    "    s += '<thead>\\n'\n",
    "    s += '<tr>\\n'\n",
    "    s += '<th>treatments</th>\\n'\n",
    "    s += '<th>materials_citations</th>\\n'\n",
    "    s += '<th>invalid_country</th>\\n'\n",
    "    s += '<th>invalid_locality</th>\\n'\n",
    "    s += '<th>invalid_recordedBy</th>\\n'\n",
    "    s += '<th>invalid_eventDate</th>\\n'\n",
    "    s += '</tr>\\n'\n",
    "    s += '</thead>\\n'\n",
    "    s += '<tr>\\n'\n",
    "    s += f'<td>{summary_dict[\"n_treatments\"]}</td>\\n'    \n",
    "    s += f'<td>{summary_dict[\"n_materials_citations\"]}</td>\\n'    \n",
    "    \n",
    "    for x in ['n_invalid_country', 'n_invalid_locality', 'n_invalid_recordedBy', 'n_invalid_eventDate']:\n",
    "        if summary_dict[x] == 0:\n",
    "            s += f'<td>{summary_dict[x]}</td>\\n'\n",
    "        else:\n",
    "            s += f'<td class=\"is-selected\">{summary_dict[x]}</td>\\n'\n",
    "       \n",
    "    s += '</tr>\\n'\n",
    "    s += '</table>'\n",
    "   \n",
    "    summary_html = s\n",
    "       \n",
    "    # Write the validation report\n",
    "    \n",
    "    timestamp = datetime.utcnow()\n",
    "    html = f'''\n",
    "        <html>\n",
    "            <header>\n",
    "                <meta charset=\"utf-8\">\n",
    "                <meta name=\"viewport\" content=\"width=device-width, initial-scale=1\">\n",
    "                <title>validator2</title>\n",
    "                <link rel=\"stylesheet\" href=\"https://cdn.jsdelivr.net/npm/bulma@0.9.3/css/bulma.min.css\">\n",
    "            </header>\n",
    "            <body>\n",
    "                <section class=\"section\">\n",
    "                    <div class=\"container\">\n",
    "                        {title_html}\n",
    "                        {summary_html}\n",
    "                        {results_html}\n",
    "                    </div>\n",
    "                </section>\n",
    "            </body>\n",
    "        </html>        \n",
    "        '''\n",
    "    with open(f'{uuid}.html', 'w') as f:\n",
    "        f.write(html)        \n",
    "            \n",
    "    return summary_dict\n",
    "\n",
    "# validate_dwca('FE566D11FFD2FFF5383F9056FFE3FFEF')"
   ]
  },
  {
   "cell_type": "code",
   "execution_count": 9,
   "id": "c64d240a-1d9c-4e47-aad6-c9b55e83cac1",
   "metadata": {
    "execution": {
     "iopub.execute_input": "2022-04-17T06:02:02.518778Z",
     "iopub.status.busy": "2022-04-17T06:02:02.518438Z",
     "iopub.status.idle": "2022-04-17T06:02:02.520450Z",
     "shell.execute_reply": "2022-04-17T06:02:02.520133Z"
    },
    "papermill": {
     "duration": 0.011632,
     "end_time": "2022-04-17T06:02:02.520517",
     "exception": false,
     "start_time": "2022-04-17T06:02:02.508885",
     "status": "completed"
    },
    "tags": []
   },
   "outputs": [
    {
     "name": "stdout",
     "output_type": "stream",
     "text": [
      "CPU times: user 2 µs, sys: 0 ns, total: 2 µs\n",
      "Wall time: 4.29 µs\n"
     ]
    }
   ],
   "source": [
    "%%time\n",
    "\n",
    "def generate_status_report(summary_list):\n",
    "    \n",
    "    # controlled_vocabularie_html\n",
    "\n",
    "    s = '<p class=\"title is-3\">Controlled vocabularies\\n'\n",
    "\n",
    "    s += '<p class=\"title is-4\">Country</p>\\n'\n",
    "    for i in sorted(country_list):\n",
    "        s += f'<p>{i}</p>\\n'\n",
    "    s += '<br><br>'\n",
    "\n",
    "    s += '<p class=\"title is-4\">Locality</p>\\n'\n",
    "    for i in sorted(locality_list):\n",
    "        s += f'<p>{i}</p>\\n'\n",
    "    s += '<br><br>'\n",
    "\n",
    "    s += '<p class=\"title is-4\">recordedBy</p>\\n'\n",
    "    for i in sorted(author_list):\n",
    "        s += f'<p>{i}</p>\\n'\n",
    "    s += '<br><br>'\n",
    "\n",
    "    s += '<p class=\"title is-4\">eventDate (valid years)</p>\\n'\n",
    "    for i in sorted(date_list):\n",
    "        s += f'<p>{i}</p>\\n'\n",
    "    s += '<br><br>'\n",
    "        \n",
    "    controlled_vocabularies_html = s\n",
    "\n",
    "    # title_html\n",
    "\n",
    "    s = '<p class=\"title is-1\">Insects of Guam Datamining Project</p>\\n'\n",
    "    s += f'<p class=\"subtitle is-3\">Status report</p>\\n'\n",
    "    s += f'<p>Generated by <b>validator2.ipynb</b> at {datetime.utcnow()} UTC</p>'\n",
    "    s += '<p>Data are check against controlled vocabularies listed at the bottom of this report. Currently, these lists are maintained within <b>validator2.ipynb</b></p>\\n'\n",
    "    s += '<p>Click on a <b>uuid</b> to see validation results for the corresponding chapter.</p>'\n",
    "    title_html = s\n",
    "\n",
    "    # table_html\n",
    "\n",
    "    s = '<table class=\"table\">\\n'\n",
    "    s += '<thead>\\n'\n",
    "    s += '<tr>\\n'\n",
    "    s += '<th>uuid</th>\\n'\n",
    "    s += '<th>title</th>\\n'\n",
    "    s += '<th>treatments</th>\\n'\n",
    "    s += '<th>materials_citations</th>\\n'\n",
    "    s += '<th>invalid_country</th>\\n'\n",
    "    s += '<th>invalid_locality</th>\\n'\n",
    "    s += '<th>invalid_recordedBy</th>\\n'\n",
    "    s += '<th>invalid_eventDate</th>\\n'\n",
    "    s += '</tr>\\n'\n",
    "    s += '</thead>\\n'\n",
    "\n",
    "    for d in summary_list:\n",
    "        uuid = d['uuid']\n",
    "        s += '<tr>\\n'\n",
    "        s += f'<td><a href=\"{uuid}.html\">{uuid}</td>\\n' # link to validation report for this uuid\n",
    "        s += f'<td>{d[\"title\"]}</td>\\n'\n",
    "        s += f'<td>{d[\"n_treatments\"]}</td>\\n'    \n",
    "        s += f'<td>{d[\"n_materials_citations\"]}</td>\\n'    \n",
    "\n",
    "        for x in ['n_invalid_country', 'n_invalid_locality', 'n_invalid_recordedBy', 'n_invalid_eventDate']:\n",
    "            if d[x] == 0:\n",
    "                s += f'<td>{d[x]}</td>\\n'\n",
    "            else:\n",
    "                s += f'<td class=\"is-selected\">{d[x]}</td>\\n'\n",
    "\n",
    "        s += '</tr>\\n'\n",
    "    s += '</table>'\n",
    "    table_html = s\n",
    "\n",
    "    # Write the validation report\n",
    "\n",
    "    timestamp = datetime.utcnow()\n",
    "    html = f'''\n",
    "        <html>\n",
    "            <header>\n",
    "                <meta charset=\"utf-8\">\n",
    "                <meta name=\"viewport\" content=\"width=device-width, initial-scale=1\">\n",
    "                <title>validator2</title>\n",
    "                <link rel=\"stylesheet\" href=\"https://cdn.jsdelivr.net/npm/bulma@0.9.3/css/bulma.min.css\">\n",
    "            </header>\n",
    "            <body>\n",
    "                <section class=\"section\">\n",
    "                    <div class=\"container\">\n",
    "                        {title_html}\n",
    "                        {table_html}\n",
    "                        {controlled_vocabularies_html}\n",
    "                    </div>\n",
    "                </section>\n",
    "            </body>\n",
    "        </html>        \n",
    "        '''\n",
    "    with open(f'status_report.html', 'w') as f:\n",
    "        f.write(html)           "
   ]
  },
  {
   "cell_type": "code",
   "execution_count": 10,
   "id": "fe987296-5243-46cf-9067-6ec9e6289d50",
   "metadata": {
    "execution": {
     "iopub.execute_input": "2022-04-17T06:02:02.534681Z",
     "iopub.status.busy": "2022-04-17T06:02:02.534369Z",
     "iopub.status.idle": "2022-04-17T06:02:02.536106Z",
     "shell.execute_reply": "2022-04-17T06:02:02.535790Z"
    },
    "papermill": {
     "duration": 0.010027,
     "end_time": "2022-04-17T06:02:02.536173",
     "exception": false,
     "start_time": "2022-04-17T06:02:02.526146",
     "status": "completed"
    },
    "tags": []
   },
   "outputs": [],
   "source": [
    "def cleanup():\n",
    "    files = ['meta.xml', 'eml.xml', 'taxa.txt', 'occurrences.txt', 'multimedia.txt', 'description.txt', 'distribution.txt', 'media.txt', 'references.txt', 'vernaculars.txt']\n",
    "    for f in files:\n",
    "        if os.path.exists(f):\n",
    "            os.remove(f)\n",
    "            \n",
    "cleanup()"
   ]
  },
  {
   "cell_type": "code",
   "execution_count": 11,
   "id": "2a3047a8-876c-4d6a-844f-ae7c2dcb8a9f",
   "metadata": {
    "execution": {
     "iopub.execute_input": "2022-04-17T06:02:02.551063Z",
     "iopub.status.busy": "2022-04-17T06:02:02.550746Z"
    },
    "papermill": {
     "duration": null,
     "end_time": null,
     "exception": false,
     "start_time": "2022-04-17T06:02:02.541785",
     "status": "running"
    },
    "tags": []
   },
   "outputs": [
    {
     "name": "stdout",
     "output_type": "stream",
     "text": [
      "Validating\n"
     ]
    },
    {
     "name": "stdout",
     "output_type": "stream",
     "text": [
      "{'title': 'Strepsiptera of Guam', 'uuid': 'FFF07216FFA41642FFBAFFE7FFCA482A', 'n_materials_citations': 2, 'n_treatments': 1, 'n_invalid_country': 0, 'n_invalid_locality': 0, 'n_invalid_recordedBy': 0, 'n_invalid_eventDate': 0}\n"
     ]
    },
    {
     "name": "stdout",
     "output_type": "stream",
     "text": [
      "{'title': 'Halictine Bees from Rota Island', 'uuid': 'A676FD1EF22D3F34FF8F8907FFDAFC58', 'n_materials_citations': 3, 'n_treatments': 3, 'n_invalid_country': 0, 'n_invalid_locality': 0, 'n_invalid_recordedBy': 0, 'n_invalid_eventDate': 0}\n"
     ]
    },
    {
     "name": "stdout",
     "output_type": "stream",
     "text": [
      "{'title': 'Aphididae and Aleurodidae Of Guam', 'uuid': 'FF8CA776FF947F25FF920C4AFFF5FF0F', 'n_materials_citations': 9, 'n_treatments': 4, 'n_invalid_country': 0, 'n_invalid_locality': 0, 'n_invalid_recordedBy': 0, 'n_invalid_eventDate': 0}\n"
     ]
    },
    {
     "name": "stdout",
     "output_type": "stream",
     "text": [
      "{'title': 'Isoptera of Guam', 'uuid': 'FFDEFF89B713A955FFD59822FF8CFF82', 'n_materials_citations': 6, 'n_treatments': 3, 'n_invalid_country': 0, 'n_invalid_locality': 0, 'n_invalid_recordedBy': 0, 'n_invalid_eventDate': 0}\n"
     ]
    },
    {
     "name": "stdout",
     "output_type": "stream",
     "text": [
      "{'title': 'Ciidae of Guam', 'uuid': '6137FFB29C68FFD2FFB6585FFF92FFC4', 'n_materials_citations': 5, 'n_treatments': 4, 'n_invalid_country': 0, 'n_invalid_locality': 0, 'n_invalid_recordedBy': 0, 'n_invalid_eventDate': 0}\n"
     ]
    },
    {
     "name": "stdout",
     "output_type": "stream",
     "text": [
      "{'title': 'Sphingidae Of Guam', 'uuid': 'C5751610FFAD3E7CE078FFB1FFCFFF82', 'n_materials_citations': 15, 'n_treatments': 5, 'n_invalid_country': 0, 'n_invalid_locality': 0, 'n_invalid_recordedBy': 0, 'n_invalid_eventDate': 0}\n"
     ]
    },
    {
     "name": "stdout",
     "output_type": "stream",
     "text": [
      "{'title': 'Anthribidae Of Guam', 'uuid': 'AD79FFBAEA10FFDBFFFE8726FFBFFFFE', 'n_materials_citations': 34, 'n_treatments': 7, 'n_invalid_country': 0, 'n_invalid_locality': 0, 'n_invalid_recordedBy': 0, 'n_invalid_eventDate': 0}\n"
     ]
    },
    {
     "name": "stdout",
     "output_type": "stream",
     "text": [
      "{'title': 'Rhipiceridae Of Guam', 'uuid': 'FFECFFAC5917FF88FFDE5B1BFFC4FF9B', 'n_materials_citations': 9, 'n_treatments': 1, 'n_invalid_country': 0, 'n_invalid_locality': 0, 'n_invalid_recordedBy': 0, 'n_invalid_eventDate': 0}\n"
     ]
    },
    {
     "name": "stdout",
     "output_type": "stream",
     "text": [
      "{'title': 'Trypetidae, Otitidae, Helomyzidae, And Clusiidae of Guam (Diptera)', 'uuid': 'FFC7133C860D1213FFF18D1A5E327636', 'n_materials_citations': 28, 'n_treatments': 11, 'n_invalid_country': 0, 'n_invalid_locality': 0, 'n_invalid_recordedBy': 0, 'n_invalid_eventDate': 0}\n"
     ]
    },
    {
     "name": "stdout",
     "output_type": "stream",
     "text": [
      "{'title': 'Coleoptera, Staphylinidae Of Guam', 'uuid': 'FFF8B07B536B3042BD53344E0F0FFFD7', 'n_materials_citations': 14, 'n_treatments': 9, 'n_invalid_country': 0, 'n_invalid_locality': 0, 'n_invalid_recordedBy': 0, 'n_invalid_eventDate': 0}\n"
     ]
    },
    {
     "name": "stdout",
     "output_type": "stream",
     "text": [
      "{'title': 'Culicidae of Guam', 'uuid': '4125F147872BFF9DFFF5FFAC140DFF83', 'n_materials_citations': 10, 'n_treatments': 5, 'n_invalid_country': 0, 'n_invalid_locality': 0, 'n_invalid_recordedBy': 0, 'n_invalid_eventDate': 0}\n"
     ]
    },
    {
     "name": "stdout",
     "output_type": "stream",
     "text": [
      "{'title': 'Elaterid And Eucnemid Beetles Of Guam', 'uuid': 'BE7D4354FFEEFF8BFFBDFFBC0B359010', 'n_materials_citations': 17, 'n_treatments': 7, 'n_invalid_country': 0, 'n_invalid_locality': 0, 'n_invalid_recordedBy': 0, 'n_invalid_eventDate': 0}\n"
     ]
    },
    {
     "name": "stdout",
     "output_type": "stream",
     "text": [
      "{'title': 'Membracidae of Guam', 'uuid': 'FF86FFC39D5F6775A307302F3260421D', 'n_materials_citations': 15, 'n_treatments': 1, 'n_invalid_country': 0, 'n_invalid_locality': 0, 'n_invalid_recordedBy': 0, 'n_invalid_eventDate': 0}\n"
     ]
    },
    {
     "name": "stdout",
     "output_type": "stream",
     "text": [
      "{'title': 'Homoptera, Cercopidae of Guam', 'uuid': 'FFF49654F7692F7AFF85FFD7FFE1FFCA', 'n_materials_citations': 19, 'n_treatments': 3, 'n_invalid_country': 0, 'n_invalid_locality': 0, 'n_invalid_recordedBy': 0, 'n_invalid_eventDate': 0}\n"
     ]
    },
    {
     "name": "stdout",
     "output_type": "stream",
     "text": [
      "{'title': 'Barkbeetles of Guam', 'uuid': '8A034648715AFFEADD11FF809F446C3F', 'n_materials_citations': 28, 'n_treatments': 8, 'n_invalid_country': 0, 'n_invalid_locality': 0, 'n_invalid_recordedBy': 0, 'n_invalid_eventDate': 0}\n"
     ]
    },
    {
     "name": "stdout",
     "output_type": "stream",
     "text": [
      "{'title': 'Neuropteroid Insects from Guam', 'uuid': '9668142AFFAC355BFFD8FFF0FFC6FFA4', 'n_materials_citations': 60, 'n_treatments': 20, 'n_invalid_country': 0, 'n_invalid_locality': 0, 'n_invalid_recordedBy': 0, 'n_invalid_eventDate': 0}\n"
     ]
    },
    {
     "name": "stdout",
     "output_type": "stream",
     "text": [
      "{'title': 'Diptera, Tipulidae of Guam', 'uuid': 'FF82F923FF8F8849FFA5FF95FFD8C108', 'n_materials_citations': 26, 'n_treatments': 12, 'n_invalid_country': 0, 'n_invalid_locality': 0, 'n_invalid_recordedBy': 0, 'n_invalid_eventDate': 0}\n"
     ]
    },
    {
     "name": "stdout",
     "output_type": "stream",
     "text": [
      "{'title': 'Some New Species Of Nemocerous Diptera From Guam', 'uuid': '860DFFECFFDCFFF2FFF5FFD0FFC18147', 'n_materials_citations': 17, 'n_treatments': 8, 'n_invalid_country': 0, 'n_invalid_locality': 0, 'n_invalid_recordedBy': 0, 'n_invalid_eventDate': 0}\n"
     ]
    },
    {
     "name": "stdout",
     "output_type": "stream",
     "text": [
      "{'title': 'Orthoptera And Related Orders Orthoptera And Related Orders Of Guam', 'uuid': 'D04FFFF5FF9DFFF4BF68FFAAFFBBFFD8', 'n_materials_citations': 121, 'n_treatments': 22, 'n_invalid_country': 121, 'n_invalid_locality': 121, 'n_invalid_recordedBy': 121, 'n_invalid_eventDate': 121}\n"
     ]
    },
    {
     "name": "stdout",
     "output_type": "stream",
     "text": [
      "{'title': 'Hymenoptera Formicidae of Guam', 'uuid': 'F27607317E645A2FB552FF8416577654', 'n_materials_citations': 24, 'n_treatments': 23, 'n_invalid_country': 24, 'n_invalid_locality': 24, 'n_invalid_recordedBy': 24, 'n_invalid_eventDate': 24}\n"
     ]
    },
    {
     "name": "stdout",
     "output_type": "stream",
     "text": [
      "{'title': 'Hymenoptera, New Species Of Guam Chalcidoidea', 'uuid': 'FFD1FFF8FFF9FFB3FFC86E5DFFBE8B32', 'n_materials_citations': 24, 'n_treatments': 10, 'n_invalid_country': 24, 'n_invalid_locality': 22, 'n_invalid_recordedBy': 24, 'n_invalid_eventDate': 24}\n"
     ]
    },
    {
     "name": "stdout",
     "output_type": "stream",
     "text": [
      "{'title': 'Psyllidae from Guam', 'uuid': 'FFE68664BF23FFD1F70BFF81FFA1FFE4', 'n_materials_citations': 25, 'n_treatments': 5, 'n_invalid_country': 25, 'n_invalid_locality': 25, 'n_invalid_recordedBy': 25, 'n_invalid_eventDate': 25}\n"
     ]
    },
    {
     "name": "stdout",
     "output_type": "stream",
     "text": [
      "{'title': 'Wasps of Guam', 'uuid': 'B525F8594A7852476D53FFF00A6FFFD2', 'n_materials_citations': 30, 'n_treatments': 7, 'n_invalid_country': 30, 'n_invalid_locality': 30, 'n_invalid_recordedBy': 30, 'n_invalid_eventDate': 30}\n"
     ]
    },
    {
     "name": "stdout",
     "output_type": "stream",
     "text": [
      "{'title': 'New Longicorn Beetles From Guam (Cerambycidae)', 'uuid': 'FFE8E303585AA232FF96FFDCFFCADD26', 'n_materials_citations': 31, 'n_treatments': 7, 'n_invalid_country': 31, 'n_invalid_locality': 19, 'n_invalid_recordedBy': 31, 'n_invalid_eventDate': 31}\n"
     ]
    },
    {
     "name": "stdout",
     "output_type": "stream",
     "text": [
      "{'title': 'Thysanoptera: Thrips of Guam', 'uuid': 'FFDF7A4CFFF3FFC777195003DD64051A', 'n_materials_citations': 31, 'n_treatments': 22, 'n_invalid_country': 31, 'n_invalid_locality': 23, 'n_invalid_recordedBy': 31, 'n_invalid_eventDate': 30}\n"
     ]
    },
    {
     "name": "stdout",
     "output_type": "stream",
     "text": [
      "{'title': 'Bees of Guam', 'uuid': 'FE566D11FFD2FFF5383F9056FFE3FFEF', 'n_materials_citations': 31, 'n_treatments': 6, 'n_invalid_country': 0, 'n_invalid_locality': 0, 'n_invalid_recordedBy': 0, 'n_invalid_eventDate': 0}\n"
     ]
    },
    {
     "name": "stdout",
     "output_type": "stream",
     "text": [
      "{'title': 'ODONATA, DRAGONFLIES OF GUAM', 'uuid': 'FFDFF02AC57CFFB7FF89B354FF83F875', 'n_materials_citations': 36, 'n_treatments': 9, 'n_invalid_country': 36, 'n_invalid_locality': 36, 'n_invalid_recordedBy': 36, 'n_invalid_eventDate': 36}\n"
     ]
    },
    {
     "name": "stdout",
     "output_type": "stream",
     "text": [
      "{'title': 'SOME MISCELLANEOUS DIPTERA OF GUAM', 'uuid': 'B472FFEFFFAEFFB2A40BFFD9A227FFD1', 'n_materials_citations': 40, 'n_treatments': 17, 'n_invalid_country': 39, 'n_invalid_locality': 40, 'n_invalid_recordedBy': 40, 'n_invalid_eventDate': 39}\n"
     ]
    },
    {
     "name": "stdout",
     "output_type": "stream",
     "text": [
      "{'title': 'Coleoptera Heteromera From Guam', 'uuid': 'FFDAFFA2FFAEFFC88657F353FF92FFF8', 'n_materials_citations': 41, 'n_treatments': 11, 'n_invalid_country': 41, 'n_invalid_locality': 39, 'n_invalid_recordedBy': 41, 'n_invalid_eventDate': 41}\n"
     ]
    },
    {
     "name": "stdout",
     "output_type": "stream",
     "text": [
      "{'title': 'Homoptera, Fulgoroidea and Jassoidea of Guam', 'uuid': 'BD58FF95EB59FFFFFFB04B578875FD6D', 'n_materials_citations': 43, 'n_treatments': 27, 'n_invalid_country': 43, 'n_invalid_locality': 38, 'n_invalid_recordedBy': 41, 'n_invalid_eventDate': 43}\n"
     ]
    },
    {
     "name": "stdout",
     "output_type": "stream",
     "text": [
      "{'title': 'Ichneumonidae, Evaniidae, And Braconidae Of Guam', 'uuid': '6C420D32855DFFCA221EFFCCE940FF9E', 'n_materials_citations': 58, 'n_treatments': 20, 'n_invalid_country': 58, 'n_invalid_locality': 54, 'n_invalid_recordedBy': 58, 'n_invalid_eventDate': 58}\n"
     ]
    },
    {
     "name": "stdout",
     "output_type": "stream",
     "text": [
      "{'title': 'Coccidae of Guam', 'uuid': '0C07FFD2F91AFFFBFF82FF9EFFC41E3E', 'n_materials_citations': 60, 'n_treatments': 41, 'n_invalid_country': 60, 'n_invalid_locality': 60, 'n_invalid_recordedBy': 60, 'n_invalid_eventDate': 60}\n"
     ]
    },
    {
     "name": "stdout",
     "output_type": "stream",
     "text": [
      "{'title': 'Notes On Some Guam Chalcidoidea', 'uuid': '8F4F9461FF8AFFE4E503FFAC8F5EFFD2', 'n_materials_citations': 65, 'n_treatments': 43, 'n_invalid_country': 65, 'n_invalid_locality': 65, 'n_invalid_recordedBy': 65, 'n_invalid_eventDate': 65}\n"
     ]
    },
    {
     "name": "stdout",
     "output_type": "stream",
     "text": [
      "{'title': 'Lepidoptera, Butterflies of Guam', 'uuid': 'FF8A6512AA2D474D9945FF80FFCFFFAC', 'n_materials_citations': 66, 'n_treatments': 12, 'n_invalid_country': 66, 'n_invalid_locality': 66, 'n_invalid_recordedBy': 66, 'n_invalid_eventDate': 66}\n"
     ]
    },
    {
     "name": "stdout",
     "output_type": "stream",
     "text": [
      "{'title': 'Lepidoptera, Geometridae, Arctiidae, Agrotidae, and Pyralidae of Guam', 'uuid': 'FF8AFFC0E94BFFA1FFCF823D9276034F', 'n_materials_citations': 72, 'n_treatments': 54, 'n_invalid_country': 72, 'n_invalid_locality': 72, 'n_invalid_recordedBy': 72, 'n_invalid_eventDate': 72}\n"
     ]
    },
    {
     "name": "stdout",
     "output_type": "stream",
     "text": [
      "{'title': 'Curculionidae of Guam', 'uuid': '2A01FF71FFF051065F5BAF5AFFFAFF96', 'n_materials_citations': 74, 'n_treatments': 45, 'n_invalid_country': 64, 'n_invalid_locality': 69, 'n_invalid_recordedBy': 74, 'n_invalid_eventDate': 40}\n"
     ]
    },
    {
     "name": "stdout",
     "output_type": "stream",
     "text": [
      "{'title': 'Notes On Some Fulgoroidea Of Guam', 'uuid': 'FFAAFFEAFFDBFFCAFFFEFFCD8671FFE9', 'n_materials_citations': 76, 'n_treatments': 17, 'n_invalid_country': 76, 'n_invalid_locality': 76, 'n_invalid_recordedBy': 76, 'n_invalid_eventDate': 76}\n"
     ]
    }
   ],
   "source": [
    "%%time\n",
    "\n",
    "# MAIN\n",
    "\n",
    "df = read_dataset_list()\n",
    "\n",
    "# Validate each DwCA\n",
    "\n",
    "print('Validating')\n",
    "\n",
    "summary_list = []\n",
    "\n",
    "uuids = list(df.uuid.values)\n",
    "for uuid in uuids:\n",
    "    summary_dict = validate_dwca(uuid)\n",
    "    summary_list.append(summary_dict)\n",
    "\n",
    "print('Generating status report')  \n",
    "generate_status_report(summary_list)\n",
    "\n",
    "print('Cleaning up')\n",
    "cleanup()\n",
    "\n",
    "print('Updating GitHub')\n",
    "update_github()\n",
    "        \n",
    "print('FINISHED')"
   ]
  },
  {
   "cell_type": "code",
   "execution_count": null,
   "id": "06052c16-ab4d-4c4f-a168-cb8248750d91",
   "metadata": {
    "papermill": {
     "duration": null,
     "end_time": null,
     "exception": null,
     "start_time": null,
     "status": "pending"
    },
    "tags": []
   },
   "outputs": [],
   "source": []
  }
 ],
 "metadata": {
  "kernelspec": {
   "display_name": "Python 3",
   "language": "python",
   "name": "python3"
  },
  "language_info": {
   "codemirror_mode": {
    "name": "ipython",
    "version": 3
   },
   "file_extension": ".py",
   "mimetype": "text/x-python",
   "name": "python",
   "nbconvert_exporter": "python",
   "pygments_lexer": "ipython3",
   "version": "3.8.10"
  },
  "papermill": {
   "default_parameters": {},
   "duration": null,
   "end_time": null,
   "environment_variables": {},
   "exception": null,
   "input_path": "validator2.ipynb",
   "output_path": "output.ipynb",
   "parameters": {},
   "start_time": "2022-04-17T06:02:01.352620",
   "version": "2.3.3"
  }
 },
 "nbformat": 4,
 "nbformat_minor": 5
}