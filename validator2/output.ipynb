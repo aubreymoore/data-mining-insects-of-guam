{
 "cells": [
  {
   "cell_type": "markdown",
   "id": "e369909c-da83-4d18-a331-a235534528af",
   "metadata": {
    "papermill": {
     "duration": 0.008181,
     "end_time": "2022-08-27T12:02:03.005594",
     "exception": false,
     "start_time": "2022-08-27T12:02:02.997413",
     "status": "completed"
    },
    "tags": []
   },
   "source": [
    "# validator2\n",
    "\n",
    "This notebook validates materials citations annotation using Darwin core archives downloaded from GGI server. \n",
    "\n",
    "If my laptop is online, this Jupyter notebook will run during the second minute of every hour under this crontab entry:\n",
    "```\n",
    "2 * * * * ~/Desktop/data-mining-insects-of-guam/validator2/run_validator2.sh >~/Desktop/data-mining-insects-of-guam/validator2/run_validator2.log 2>&1\n",
    "```\n",
    "\n",
    "The bash file (run_validator2.sh) runs the notebook using **papermill**:\n",
    "```\n",
    "#!/bin/bash\n",
    "cd ~/Desktop/data-mining-insects-of-guam/validator2/\n",
    "/home/aubrey/.local/bin/papermill validator2.ipynb output.ipynb\n",
    "```"
   ]
  },
  {
   "cell_type": "code",
   "execution_count": 1,
   "id": "d8a8cdd5-ccf1-4804-9434-1c3bafb0a9eb",
   "metadata": {
    "execution": {
     "iopub.execute_input": "2022-08-27T12:02:03.020277Z",
     "iopub.status.busy": "2022-08-27T12:02:03.019982Z",
     "iopub.status.idle": "2022-08-27T12:02:03.218520Z",
     "shell.execute_reply": "2022-08-27T12:02:03.218166Z"
    },
    "papermill": {
     "duration": 0.205774,
     "end_time": "2022-08-27T12:02:03.218625",
     "exception": false,
     "start_time": "2022-08-27T12:02:03.012851",
     "status": "completed"
    },
    "tags": []
   },
   "outputs": [],
   "source": [
    "import time\n",
    "import pandas as pd\n",
    "import subprocess\n",
    "import re\n",
    "from datetime import datetime\n",
    "import os"
   ]
  },
  {
   "cell_type": "code",
   "execution_count": 2,
   "id": "e1733c09-0403-4e2f-9320-a172269c0563",
   "metadata": {
    "execution": {
     "iopub.execute_input": "2022-08-27T12:02:03.230642Z",
     "iopub.status.busy": "2022-08-27T12:02:03.230292Z",
     "iopub.status.idle": "2022-08-27T12:02:03.232231Z",
     "shell.execute_reply": "2022-08-27T12:02:03.231946Z"
    },
    "papermill": {
     "duration": 0.008768,
     "end_time": "2022-08-27T12:02:03.232290",
     "exception": false,
     "start_time": "2022-08-27T12:02:03.223522",
     "status": "completed"
    },
    "tags": []
   },
   "outputs": [],
   "source": [
    "# This list is currently maintained \"manually\".\n",
    "\n",
    "author_list = [\n",
    "    'A. Cruz',\n",
    "    'E. H. Bryan',\n",
    "    'E. H. Bryan, Jr.',\n",
    "    'E. H. Bryan and O. H. Swezey',\n",
    "    'E. H. Bryan, O. H. Swezey, and R. L. Usinger',\n",
    "    'E. H. Bryan and R. L. Usinger',\n",
    "    'T. E. Esaki',\n",
    "    'D. T. Fullaway',\n",
    "    'H. G. Hornbostel',\n",
    "    'R. G. Oakley',\n",
    "    'Z. Ono',\n",
    "    'O. H. Swezey',\n",
    "    'O. H. Swezey and R. L. Usinger',\n",
    "    'Rowley',\n",
    "    'R. L. Usinger',\n",
    "    'R. L. Usinger and O. H. Swezey',\n",
    "    'unknown'\n",
    "]"
   ]
  },
  {
   "cell_type": "code",
   "execution_count": 3,
   "id": "5cf07bac-6abf-4c76-9c88-ea55e945a70d",
   "metadata": {
    "execution": {
     "iopub.execute_input": "2022-08-27T12:02:03.245324Z",
     "iopub.status.busy": "2022-08-27T12:02:03.245027Z",
     "iopub.status.idle": "2022-08-27T12:02:03.246877Z",
     "shell.execute_reply": "2022-08-27T12:02:03.246582Z"
    },
    "papermill": {
     "duration": 0.010026,
     "end_time": "2022-08-27T12:02:03.246938",
     "exception": false,
     "start_time": "2022-08-27T12:02:03.236912",
     "status": "completed"
    },
    "tags": []
   },
   "outputs": [],
   "source": [
    "# This list is currently maintained \"manually\".\n",
    "\n",
    "locality_list = [\n",
    "    'Agana',\n",
    "    'Agana Swamp',\n",
    "    'Agat',\n",
    "    'Agfayan',\n",
    "    'Asan',\n",
    "    'Atao Beach',\n",
    "    'Barrigada',\n",
    "    'Dandan',\n",
    "    'Dededo',\n",
    "    'Fadian',\n",
    "    'Government House, Agana',\n",
    "    'Guam',\n",
    "    'Inarajan',\n",
    "    'Machanao',\n",
    "    'Mata',\n",
    "    'Merizo',\n",
    "    'Mogfog',\n",
    "    'Mt. Alifan',\n",
    "    'Mount Alifan',\n",
    "    'Mount Chachao',\n",
    "    'Mt. Sasalaguan',\n",
    "    'Mount Sasalaguan', \n",
    "    'Mount Tenjo',\n",
    "    'Orote Peninsula',\n",
    "    'Orote Point',\n",
    "    'Passan',\n",
    "    'Piti',\n",
    "    'Ritidian Point',\n",
    "    'Rota Island',\n",
    "    'Root School Farm',\n",
    "    'Santa Rosa Peak',\n",
    "    'Sumay Road',\n",
    "    'Tarague',\n",
    "    'Tarague Beach',\n",
    "    'Tumon',\n",
    "    'Umatac',\n",
    "    'Upi Trail',\n",
    "    'Yigo',\n",
    "    'Yona',\n",
    "    'Atantano',\n",
    "    'Talofofo',\n",
    "    'Libugon Farm',\n",
    "    'Sumay',\n",
    "    'Fonte Valley',\n",
    "    'Ponape',\n",
    "    'Ponape, Mount Nanalaut',\n",
    "    'Ponape, Nipit-Ninoani',\n",
    "    'Ponape, Kolonia-Nat',\n",
    "    'Babelthaup, Marukyoku',\n",
    "    'Kusaie, Mount Wakapp',\n",
    "    'Tiyan',\n",
    "    'Libugon',\n",
    "    'Palae',\n",
    "    'Magua',\n",
    "    'Saipan',\n",
    "    'Sasa',\n",
    "    'Cetti Bay',\n",
    "    'Agana Spring',\n",
    "    'Canada',\n",
    "    'Sinajana',\n",
    "    'Ipan',\n",
    "    'between Dededo and Yigo'\n",
    "]"
   ]
  },
  {
   "cell_type": "code",
   "execution_count": 4,
   "id": "cd7e3470-06be-4855-9c2b-93906e48c8b3",
   "metadata": {
    "execution": {
     "iopub.execute_input": "2022-08-27T12:02:03.258602Z",
     "iopub.status.busy": "2022-08-27T12:02:03.258216Z",
     "iopub.status.idle": "2022-08-27T12:02:03.259939Z",
     "shell.execute_reply": "2022-08-27T12:02:03.259648Z"
    },
    "papermill": {
     "duration": 0.008226,
     "end_time": "2022-08-27T12:02:03.259999",
     "exception": false,
     "start_time": "2022-08-27T12:02:03.251773",
     "status": "completed"
    },
    "tags": []
   },
   "outputs": [],
   "source": [
    "date_list = [\n",
    "    '1911',\n",
    "    '1913',\n",
    "    '1925',\n",
    "    '1936',\n",
    "    '1937',\n",
    "    '1938',\n",
    "    '1939',\n",
    "]"
   ]
  },
  {
   "cell_type": "code",
   "execution_count": 5,
   "id": "b562a34e-a316-4b6e-a20d-45fd7d9f2f3e",
   "metadata": {
    "execution": {
     "iopub.execute_input": "2022-08-27T12:02:03.271444Z",
     "iopub.status.busy": "2022-08-27T12:02:03.271154Z",
     "iopub.status.idle": "2022-08-27T12:02:03.272853Z",
     "shell.execute_reply": "2022-08-27T12:02:03.272561Z"
    },
    "papermill": {
     "duration": 0.008237,
     "end_time": "2022-08-27T12:02:03.272913",
     "exception": false,
     "start_time": "2022-08-27T12:02:03.264676",
     "status": "completed"
    },
    "tags": []
   },
   "outputs": [],
   "source": [
    "country_list = [\n",
    "    'Guam',\n",
    "    'Northern Mariana Islands',\n",
    "    'Palau',\n",
    "    'Micronesia (Federated States of)',\n",
    "]"
   ]
  },
  {
   "cell_type": "code",
   "execution_count": 6,
   "id": "27e1808f",
   "metadata": {
    "execution": {
     "iopub.execute_input": "2022-08-27T12:02:03.294148Z",
     "iopub.status.busy": "2022-08-27T12:02:03.293847Z",
     "iopub.status.idle": "2022-08-27T12:02:03.298355Z",
     "shell.execute_reply": "2022-08-27T12:02:03.298059Z"
    },
    "papermill": {
     "duration": 0.020774,
     "end_time": "2022-08-27T12:02:03.298419",
     "exception": false,
     "start_time": "2022-08-27T12:02:03.277645",
     "status": "completed"
    },
    "tags": []
   },
   "outputs": [
    {
     "data": {
      "text/html": [
       "<div>\n",
       "<style scoped>\n",
       "    .dataframe tbody tr th:only-of-type {\n",
       "        vertical-align: middle;\n",
       "    }\n",
       "\n",
       "    .dataframe tbody tr th {\n",
       "        vertical-align: top;\n",
       "    }\n",
       "\n",
       "    .dataframe thead th {\n",
       "        text-align: right;\n",
       "    }\n",
       "</style>\n",
       "<table border=\"1\" class=\"dataframe\">\n",
       "  <thead>\n",
       "    <tr style=\"text-align: right;\">\n",
       "      <th></th>\n",
       "      <th>uuid</th>\n",
       "      <th>status</th>\n",
       "      <th>title</th>\n",
       "    </tr>\n",
       "  </thead>\n",
       "  <tbody>\n",
       "    <tr>\n",
       "      <th>3</th>\n",
       "      <td>FFF07216FFA41642FFBAFFE7FFCA482A</td>\n",
       "      <td>not started</td>\n",
       "      <td>Strepsiptera of Guam</td>\n",
       "    </tr>\n",
       "    <tr>\n",
       "      <th>9</th>\n",
       "      <td>A676FD1EF22D3F34FF8F8907FFDAFC58</td>\n",
       "      <td>not started</td>\n",
       "      <td>Halictine Bees from Rota Island</td>\n",
       "    </tr>\n",
       "    <tr>\n",
       "      <th>10</th>\n",
       "      <td>FF8CA776FF947F25FF920C4AFFF5FF0F</td>\n",
       "      <td>not started</td>\n",
       "      <td>Aphididae and Aleurodidae Of Guam</td>\n",
       "    </tr>\n",
       "    <tr>\n",
       "      <th>11</th>\n",
       "      <td>FFDEFF89B713A955FFD59822FF8CFF82</td>\n",
       "      <td>not started</td>\n",
       "      <td>Isoptera of Guam</td>\n",
       "    </tr>\n",
       "    <tr>\n",
       "      <th>12</th>\n",
       "      <td>6137FFB29C68FFD2FFB6585FFF92FFC4</td>\n",
       "      <td>not started</td>\n",
       "      <td>Ciidae of Guam</td>\n",
       "    </tr>\n",
       "    <tr>\n",
       "      <th>13</th>\n",
       "      <td>C5751610FFAD3E7CE078FFB1FFCFFF82</td>\n",
       "      <td>not started</td>\n",
       "      <td>Sphingidae Of Guam</td>\n",
       "    </tr>\n",
       "    <tr>\n",
       "      <th>14</th>\n",
       "      <td>AD79FFBAEA10FFDBFFFE8726FFBFFFFE</td>\n",
       "      <td>not started</td>\n",
       "      <td>Anthribidae Of Guam</td>\n",
       "    </tr>\n",
       "    <tr>\n",
       "      <th>15</th>\n",
       "      <td>FFECFFAC5917FF88FFDE5B1BFFC4FF9B</td>\n",
       "      <td>not started</td>\n",
       "      <td>Rhipiceridae Of Guam</td>\n",
       "    </tr>\n",
       "    <tr>\n",
       "      <th>16</th>\n",
       "      <td>FFC7133C860D1213FFF18D1A5E327636</td>\n",
       "      <td>not started</td>\n",
       "      <td>Trypetidae, Otitidae, Helomyzidae, And Clusiid...</td>\n",
       "    </tr>\n",
       "    <tr>\n",
       "      <th>17</th>\n",
       "      <td>FFF8B07B536B3042BD53344E0F0FFFD7</td>\n",
       "      <td>not started</td>\n",
       "      <td>Coleoptera, Staphylinidae Of Guam</td>\n",
       "    </tr>\n",
       "    <tr>\n",
       "      <th>18</th>\n",
       "      <td>4125F147872BFF9DFFF5FFAC140DFF83</td>\n",
       "      <td>not started</td>\n",
       "      <td>Culicidae of Guam</td>\n",
       "    </tr>\n",
       "    <tr>\n",
       "      <th>19</th>\n",
       "      <td>BE7D4354FFEEFF8BFFBDFFBC0B359010</td>\n",
       "      <td>not started</td>\n",
       "      <td>Elaterid And Eucnemid Beetles Of Guam</td>\n",
       "    </tr>\n",
       "    <tr>\n",
       "      <th>20</th>\n",
       "      <td>FF86FFC39D5F6775A307302F3260421D</td>\n",
       "      <td>not started</td>\n",
       "      <td>Membracidae of Guam</td>\n",
       "    </tr>\n",
       "    <tr>\n",
       "      <th>21</th>\n",
       "      <td>FFF49654F7692F7AFF85FFD7FFE1FFCA</td>\n",
       "      <td>not started</td>\n",
       "      <td>Homoptera, Cercopidae of Guam</td>\n",
       "    </tr>\n",
       "    <tr>\n",
       "      <th>22</th>\n",
       "      <td>8A034648715AFFEADD11FF809F446C3F</td>\n",
       "      <td>not started</td>\n",
       "      <td>Barkbeetles of Guam</td>\n",
       "    </tr>\n",
       "    <tr>\n",
       "      <th>23</th>\n",
       "      <td>9668142AFFAC355BFFD8FFF0FFC6FFA4</td>\n",
       "      <td>not started</td>\n",
       "      <td>Neuropteroid Insects from Guam</td>\n",
       "    </tr>\n",
       "    <tr>\n",
       "      <th>24</th>\n",
       "      <td>FF82F923FF8F8849FFA5FF95FFD8C108</td>\n",
       "      <td>not started</td>\n",
       "      <td>Diptera, Tipulidae of Guam</td>\n",
       "    </tr>\n",
       "    <tr>\n",
       "      <th>25</th>\n",
       "      <td>860DFFECFFDCFFF2FFF5FFD0FFC18147</td>\n",
       "      <td>not started</td>\n",
       "      <td>Some New Species Of Nemocerous Diptera From Guam</td>\n",
       "    </tr>\n",
       "    <tr>\n",
       "      <th>26</th>\n",
       "      <td>D04FFFF5FF9DFFF4BF68FFAAFFBBFFD8</td>\n",
       "      <td>not started</td>\n",
       "      <td>Orthoptera And Related Orders Orthoptera And R...</td>\n",
       "    </tr>\n",
       "    <tr>\n",
       "      <th>27</th>\n",
       "      <td>F27607317E645A2FB552FF8416577654</td>\n",
       "      <td>not started</td>\n",
       "      <td>Hymenoptera Formicidae of Guam</td>\n",
       "    </tr>\n",
       "    <tr>\n",
       "      <th>28</th>\n",
       "      <td>FFD1FFF8FFF9FFB3FFC86E5DFFBE8B32</td>\n",
       "      <td>not started</td>\n",
       "      <td>Hymenoptera, New Species Of Guam Chalcidoidea</td>\n",
       "    </tr>\n",
       "    <tr>\n",
       "      <th>29</th>\n",
       "      <td>FFE68664BF23FFD1F70BFF81FFA1FFE4</td>\n",
       "      <td>not started</td>\n",
       "      <td>Psyllidae from Guam</td>\n",
       "    </tr>\n",
       "    <tr>\n",
       "      <th>30</th>\n",
       "      <td>B525F8594A7852476D53FFF00A6FFFD2</td>\n",
       "      <td>not started</td>\n",
       "      <td>Wasps of Guam</td>\n",
       "    </tr>\n",
       "    <tr>\n",
       "      <th>31</th>\n",
       "      <td>FFE8E303585AA232FF96FFDCFFCADD26</td>\n",
       "      <td>not started</td>\n",
       "      <td>New Longicorn Beetles From Guam (Cerambycidae)</td>\n",
       "    </tr>\n",
       "    <tr>\n",
       "      <th>32</th>\n",
       "      <td>FFDF7A4CFFF3FFC777195003DD64051A</td>\n",
       "      <td>not started</td>\n",
       "      <td>Thysanoptera: Thrips of Guam</td>\n",
       "    </tr>\n",
       "    <tr>\n",
       "      <th>33</th>\n",
       "      <td>FE566D11FFD2FFF5383F9056FFE3FFEF</td>\n",
       "      <td>not started</td>\n",
       "      <td>Bees of Guam</td>\n",
       "    </tr>\n",
       "    <tr>\n",
       "      <th>34</th>\n",
       "      <td>FFDFF02AC57CFFB7FF89B354FF83F875</td>\n",
       "      <td>not started</td>\n",
       "      <td>ODONATA, DRAGONFLIES OF GUAM</td>\n",
       "    </tr>\n",
       "    <tr>\n",
       "      <th>35</th>\n",
       "      <td>B472FFEFFFAEFFB2A40BFFD9A227FFD1</td>\n",
       "      <td>not started</td>\n",
       "      <td>SOME MISCELLANEOUS DIPTERA OF GUAM</td>\n",
       "    </tr>\n",
       "    <tr>\n",
       "      <th>36</th>\n",
       "      <td>FFDAFFA2FFAEFFC88657F353FF92FFF8</td>\n",
       "      <td>not started</td>\n",
       "      <td>Coleoptera Heteromera From Guam</td>\n",
       "    </tr>\n",
       "    <tr>\n",
       "      <th>37</th>\n",
       "      <td>BD58FF95EB59FFFFFFB04B578875FD6D</td>\n",
       "      <td>not started</td>\n",
       "      <td>Homoptera, Fulgoroidea and Jassoidea of Guam</td>\n",
       "    </tr>\n",
       "    <tr>\n",
       "      <th>38</th>\n",
       "      <td>6C420D32855DFFCA221EFFCCE940FF9E</td>\n",
       "      <td>not started</td>\n",
       "      <td>Ichneumonidae, Evaniidae, And Braconidae Of Guam</td>\n",
       "    </tr>\n",
       "    <tr>\n",
       "      <th>39</th>\n",
       "      <td>0C07FFD2F91AFFFBFF82FF9EFFC41E3E</td>\n",
       "      <td>not started</td>\n",
       "      <td>Coccidae of Guam</td>\n",
       "    </tr>\n",
       "    <tr>\n",
       "      <th>40</th>\n",
       "      <td>8F4F9461FF8AFFE4E503FFAC8F5EFFD2</td>\n",
       "      <td>not started</td>\n",
       "      <td>Notes On Some Guam Chalcidoidea</td>\n",
       "    </tr>\n",
       "    <tr>\n",
       "      <th>41</th>\n",
       "      <td>FF8A6512AA2D474D9945FF80FFCFFFAC</td>\n",
       "      <td>not started</td>\n",
       "      <td>Lepidoptera, Butterflies of Guam</td>\n",
       "    </tr>\n",
       "    <tr>\n",
       "      <th>42</th>\n",
       "      <td>FF8AFFC0E94BFFA1FFCF823D9276034F</td>\n",
       "      <td>not started</td>\n",
       "      <td>Lepidoptera, Geometridae, Arctiidae, Agrotidae...</td>\n",
       "    </tr>\n",
       "    <tr>\n",
       "      <th>43</th>\n",
       "      <td>2A01FF71FFF051065F5BAF5AFFFAFF96</td>\n",
       "      <td>not started</td>\n",
       "      <td>Curculionidae of Guam</td>\n",
       "    </tr>\n",
       "    <tr>\n",
       "      <th>44</th>\n",
       "      <td>FFAAFFEAFFDBFFCAFFFEFFCD8671FFE9</td>\n",
       "      <td>not started</td>\n",
       "      <td>Notes On Some Fulgoroidea Of Guam</td>\n",
       "    </tr>\n",
       "    <tr>\n",
       "      <th>45</th>\n",
       "      <td>CB52FF9DFFBE1B09FFDAFFB507064636</td>\n",
       "      <td>not started</td>\n",
       "      <td>Miscellaneous Families of Guam Coleoptera</td>\n",
       "    </tr>\n",
       "    <tr>\n",
       "      <th>46</th>\n",
       "      <td>1054DB21F50C3F6D4A60EF68FFE4C168</td>\n",
       "      <td>not started</td>\n",
       "      <td>Hemiptera Heteroptera of Guam</td>\n",
       "    </tr>\n",
       "  </tbody>\n",
       "</table>\n",
       "</div>"
      ],
      "text/plain": [
       "                                uuid       status  \\\n",
       "3   FFF07216FFA41642FFBAFFE7FFCA482A  not started   \n",
       "9   A676FD1EF22D3F34FF8F8907FFDAFC58  not started   \n",
       "10  FF8CA776FF947F25FF920C4AFFF5FF0F  not started   \n",
       "11  FFDEFF89B713A955FFD59822FF8CFF82  not started   \n",
       "12  6137FFB29C68FFD2FFB6585FFF92FFC4  not started   \n",
       "13  C5751610FFAD3E7CE078FFB1FFCFFF82  not started   \n",
       "14  AD79FFBAEA10FFDBFFFE8726FFBFFFFE  not started   \n",
       "15  FFECFFAC5917FF88FFDE5B1BFFC4FF9B  not started   \n",
       "16  FFC7133C860D1213FFF18D1A5E327636  not started   \n",
       "17  FFF8B07B536B3042BD53344E0F0FFFD7  not started   \n",
       "18  4125F147872BFF9DFFF5FFAC140DFF83  not started   \n",
       "19  BE7D4354FFEEFF8BFFBDFFBC0B359010  not started   \n",
       "20  FF86FFC39D5F6775A307302F3260421D  not started   \n",
       "21  FFF49654F7692F7AFF85FFD7FFE1FFCA  not started   \n",
       "22  8A034648715AFFEADD11FF809F446C3F  not started   \n",
       "23  9668142AFFAC355BFFD8FFF0FFC6FFA4  not started   \n",
       "24  FF82F923FF8F8849FFA5FF95FFD8C108  not started   \n",
       "25  860DFFECFFDCFFF2FFF5FFD0FFC18147  not started   \n",
       "26  D04FFFF5FF9DFFF4BF68FFAAFFBBFFD8  not started   \n",
       "27  F27607317E645A2FB552FF8416577654  not started   \n",
       "28  FFD1FFF8FFF9FFB3FFC86E5DFFBE8B32  not started   \n",
       "29  FFE68664BF23FFD1F70BFF81FFA1FFE4  not started   \n",
       "30  B525F8594A7852476D53FFF00A6FFFD2  not started   \n",
       "31  FFE8E303585AA232FF96FFDCFFCADD26  not started   \n",
       "32  FFDF7A4CFFF3FFC777195003DD64051A  not started   \n",
       "33  FE566D11FFD2FFF5383F9056FFE3FFEF  not started   \n",
       "34  FFDFF02AC57CFFB7FF89B354FF83F875  not started   \n",
       "35  B472FFEFFFAEFFB2A40BFFD9A227FFD1  not started   \n",
       "36  FFDAFFA2FFAEFFC88657F353FF92FFF8  not started   \n",
       "37  BD58FF95EB59FFFFFFB04B578875FD6D  not started   \n",
       "38  6C420D32855DFFCA221EFFCCE940FF9E  not started   \n",
       "39  0C07FFD2F91AFFFBFF82FF9EFFC41E3E  not started   \n",
       "40  8F4F9461FF8AFFE4E503FFAC8F5EFFD2  not started   \n",
       "41  FF8A6512AA2D474D9945FF80FFCFFFAC  not started   \n",
       "42  FF8AFFC0E94BFFA1FFCF823D9276034F  not started   \n",
       "43  2A01FF71FFF051065F5BAF5AFFFAFF96  not started   \n",
       "44  FFAAFFEAFFDBFFCAFFFEFFCD8671FFE9  not started   \n",
       "45  CB52FF9DFFBE1B09FFDAFFB507064636  not started   \n",
       "46  1054DB21F50C3F6D4A60EF68FFE4C168  not started   \n",
       "\n",
       "                                                title  \n",
       "3                                Strepsiptera of Guam  \n",
       "9                     Halictine Bees from Rota Island  \n",
       "10                  Aphididae and Aleurodidae Of Guam  \n",
       "11                                   Isoptera of Guam  \n",
       "12                                     Ciidae of Guam  \n",
       "13                                 Sphingidae Of Guam  \n",
       "14                                Anthribidae Of Guam  \n",
       "15                               Rhipiceridae Of Guam  \n",
       "16  Trypetidae, Otitidae, Helomyzidae, And Clusiid...  \n",
       "17                  Coleoptera, Staphylinidae Of Guam  \n",
       "18                                  Culicidae of Guam  \n",
       "19              Elaterid And Eucnemid Beetles Of Guam  \n",
       "20                                Membracidae of Guam  \n",
       "21                      Homoptera, Cercopidae of Guam  \n",
       "22                                Barkbeetles of Guam  \n",
       "23                     Neuropteroid Insects from Guam  \n",
       "24                         Diptera, Tipulidae of Guam  \n",
       "25   Some New Species Of Nemocerous Diptera From Guam  \n",
       "26  Orthoptera And Related Orders Orthoptera And R...  \n",
       "27                     Hymenoptera Formicidae of Guam  \n",
       "28      Hymenoptera, New Species Of Guam Chalcidoidea  \n",
       "29                                Psyllidae from Guam  \n",
       "30                                      Wasps of Guam  \n",
       "31     New Longicorn Beetles From Guam (Cerambycidae)  \n",
       "32                       Thysanoptera: Thrips of Guam  \n",
       "33                                       Bees of Guam  \n",
       "34                       ODONATA, DRAGONFLIES OF GUAM  \n",
       "35                 SOME MISCELLANEOUS DIPTERA OF GUAM  \n",
       "36                    Coleoptera Heteromera From Guam  \n",
       "37       Homoptera, Fulgoroidea and Jassoidea of Guam  \n",
       "38   Ichneumonidae, Evaniidae, And Braconidae Of Guam  \n",
       "39                                   Coccidae of Guam  \n",
       "40                    Notes On Some Guam Chalcidoidea  \n",
       "41                   Lepidoptera, Butterflies of Guam  \n",
       "42  Lepidoptera, Geometridae, Arctiidae, Agrotidae...  \n",
       "43                              Curculionidae of Guam  \n",
       "44                  Notes On Some Fulgoroidea Of Guam  \n",
       "45          Miscellaneous Families of Guam Coleoptera  \n",
       "46                      Hemiptera Heteroptera of Guam  "
      ]
     },
     "execution_count": 6,
     "metadata": {},
     "output_type": "execute_result"
    }
   ],
   "source": [
    "def read_dataset_list():\n",
    "    '''\n",
    "    Reads ../dataset-list.md and returns a pandas dataframe\n",
    "    '''\n",
    "    \n",
    "    df = pd.read_table('../dataset-list.md', sep=\"|\", header=0, skipinitialspace=True)\n",
    "\n",
    "    # Drop the left-most and right-most null columns \n",
    "    \n",
    "    df = df.dropna(axis=1, how='all')\n",
    "\n",
    "    # Drop the header underline row\n",
    "    \n",
    "    df = df.iloc[1:]  \n",
    "\n",
    "    # Strip whitespace from end of strings\n",
    "    \n",
    "    df = df.applymap(lambda x: x.strip() if isinstance(x, str) else x)\n",
    "\n",
    "    # Strip whitespace from end of column headers\n",
    "    \n",
    "    df.columns = df.columns.str.strip()\n",
    "\n",
    "    # Drop datasets with no title - we don't need to process these\n",
    "    \n",
    "    df = df.drop(df[df.title == 'no title'].index)\n",
    "    return df\n",
    "\n",
    "read_dataset_list()"
   ]
  },
  {
   "cell_type": "code",
   "execution_count": 7,
   "id": "4aea1a8e-d747-47e7-ac51-76e1ed614349",
   "metadata": {
    "execution": {
     "iopub.execute_input": "2022-08-27T12:02:03.311479Z",
     "iopub.status.busy": "2022-08-27T12:02:03.311191Z",
     "iopub.status.idle": "2022-08-27T12:02:03.313095Z",
     "shell.execute_reply": "2022-08-27T12:02:03.312809Z"
    },
    "papermill": {
     "duration": 0.009383,
     "end_time": "2022-08-27T12:02:03.313156",
     "exception": false,
     "start_time": "2022-08-27T12:02:03.303773",
     "status": "completed"
    },
    "tags": []
   },
   "outputs": [
    {
     "name": "stdout",
     "output_type": "stream",
     "text": [
      "CPU times: user 1 µs, sys: 1e+03 ns, total: 2 µs\n",
      "Wall time: 4.53 µs\n"
     ]
    }
   ],
   "source": [
    "%%time\n",
    "\n",
    "def update_github():\n",
    "    command = f'./update_github.sh'\n",
    "    result = os.system(command)\n",
    "    assert result==0, f'{command} failed'  \n",
    "\n",
    "# update_github()"
   ]
  },
  {
   "cell_type": "code",
   "execution_count": 8,
   "id": "fafd107b-6ec8-4235-b03d-a4ff05d21f9c",
   "metadata": {
    "execution": {
     "iopub.execute_input": "2022-08-27T12:02:03.326020Z",
     "iopub.status.busy": "2022-08-27T12:02:03.325734Z",
     "iopub.status.idle": "2022-08-27T12:02:03.327650Z",
     "shell.execute_reply": "2022-08-27T12:02:03.327363Z"
    },
    "papermill": {
     "duration": 0.009163,
     "end_time": "2022-08-27T12:02:03.327709",
     "exception": false,
     "start_time": "2022-08-27T12:02:03.318546",
     "status": "completed"
    },
    "tags": []
   },
   "outputs": [],
   "source": [
    "def get_datestamp():\n",
    "    df = pd.read_xml('eml.xml', xpath=\".//additionalMetadata/metadata/gbif\")\n",
    "    return df.dateStamp[0]\n",
    "\n",
    "# get_datestamp()"
   ]
  },
  {
   "cell_type": "code",
   "execution_count": 9,
   "id": "3cb6655f-e04b-4853-94c2-92814f769b5e",
   "metadata": {
    "execution": {
     "iopub.execute_input": "2022-08-27T12:02:03.345290Z",
     "iopub.status.busy": "2022-08-27T12:02:03.344952Z",
     "iopub.status.idle": "2022-08-27T12:02:03.346952Z",
     "shell.execute_reply": "2022-08-27T12:02:03.346655Z"
    },
    "papermill": {
     "duration": 0.013705,
     "end_time": "2022-08-27T12:02:03.347014",
     "exception": false,
     "start_time": "2022-08-27T12:02:03.333309",
     "status": "completed"
    },
    "tags": []
   },
   "outputs": [
    {
     "name": "stdout",
     "output_type": "stream",
     "text": [
      "CPU times: user 2 µs, sys: 0 ns, total: 2 µs\n",
      "Wall time: 4.53 µs\n"
     ]
    }
   ],
   "source": [
    "%%time\n",
    "\n",
    "def validate_dwca(uuid):\n",
    "    \"\"\"\n",
    "    Downloads a Darwin core archive from the GGI server, unzips it. \n",
    "    \n",
    "    Summary saved to <uuid>.html\n",
    "    \"\"\"\n",
    "    dwca_url = f'http://tb.plazi.org/GgServer/dwca/{uuid}.zip'\n",
    "    dwca_file = f'{uuid}.zip'\n",
    "\n",
    "    # download the DwCA into the current working directory, \n",
    "    # overwriting any previous DwCA with same uuid\n",
    "\n",
    "    command = f'wget -O {dwca_file} {dwca_url}'\n",
    "    result = os.system(command)\n",
    "    assert result==0, f'{command} failed'\n",
    "\n",
    "    # unzip the DwCA, overwriting files:  \n",
    "    #   meta.xml, eml.xml, taxa.txt, occurrences.txt, multimedia.txt, description.txt, distribution.txt, \n",
    "    #   media.txt, references.txt, vernaculars.txt\n",
    "\n",
    "    command = f'unzip -o {dwca_file}'\n",
    "    result = os.system(command)\n",
    "    assert result==0, f'{command} failed'  \n",
    "    \n",
    "    # delete zip file\n",
    "\n",
    "    command = f'rm {dwca_file}'\n",
    "    result = os.system(command)\n",
    "    assert result==0, f'{command} failed'  \n",
    "       \n",
    "    taxon_df = pd.read_csv('taxa.txt', sep='\\t')\n",
    "    occ_df = pd.read_csv('occurrences.txt', sep='\\t') \n",
    "    occ_df.eventDate = occ_df.eventDate.astype(str)\n",
    "\n",
    "    merged_df = taxon_df.merge(right=occ_df, on='taxonID')\n",
    "    assert merged_df.shape[0]==occ_df.shape[0],'merged_df does not have same number of records as occ_df'\n",
    "    \n",
    "    merged_df = merged_df[['canonicalName','country','locality','recordedBy','eventDate']]\n",
    "    \n",
    "    merged_df['valid_eventDate'] = merged_df['eventDate'].str[:4].isin(date_list)\n",
    "    merged_df['valid_recordedBy'] = merged_df['recordedBy'].isin(author_list)\n",
    "    merged_df['valid_locality'] = merged_df['locality'].isin(locality_list)\n",
    "    merged_df['valid_country'] = merged_df['country'].isin(country_list)\n",
    "\n",
    "    # title_html\n",
    "    \n",
    "    s = '<p class=\"title is-1\">Insects of Guam Datamining Project</p>\\n'\n",
    "    title = df[df[\"uuid\"]==uuid][\"title\"].to_list()[0]\n",
    "    s += f'<p class=\"subtitle is-3\">{title}</p>\\n'\n",
    "    s += f'<p><b>Darwin Core Archive:</b> <a href=\"{dwca_url}\">{dwca_url}</a></p>\\n'\n",
    "    s += f'<p>Generated by <b>validator2.ipynb</b> at {datetime.utcnow()} UTC</p>\\n'\n",
    "    title_html = s\n",
    "    \n",
    "    # results_html\n",
    "    \n",
    "    s = '<table class=\"table\">\\n'\n",
    "    s += '<thead>\\n'\n",
    "    s += '<tr>\\n'\n",
    "    s += '<th>canonicalName</th>\\n'\n",
    "    s += '<th>country</th>\\n'\n",
    "    s += '<th>locality</th>\\n'\n",
    "    s += '<th>recordedBy</th>\\n'\n",
    "    s += '<th>eventDate</th>\\n'\n",
    "    s += '</tr>\\n'\n",
    "    s += '</thead>\\n'\n",
    "    \n",
    "    for i,r in merged_df.iterrows():\n",
    "        s += '<tr>\\n'\n",
    "        s += f'<td><i>{r.canonicalName}</i></td>\\n'\n",
    "        \n",
    "        if r.valid_country:\n",
    "            s += f'<td>{r.country}</td>\\n'\n",
    "        else:\n",
    "            s += f'<td class=\"is-selected\">{r.country}</td>\\n'\n",
    "            \n",
    "        if r.valid_locality:\n",
    "            s += f'<td>{r.locality}</td>\\n'\n",
    "        else:\n",
    "            s += f'<td class=\"is-selected\">{r.locality}</td>\\n'\n",
    "                        \n",
    "        if r.valid_recordedBy:\n",
    "            s += f'<td>{r.recordedBy}</td>\\n'\n",
    "        else:\n",
    "            s += f'<td class=\"is-selected\">{r.recordedBy}</td>\\n'\n",
    "            \n",
    "        if r.valid_eventDate:\n",
    "            s += f'<td>{r.eventDate}</td>\\n'\n",
    "        else:\n",
    "            s += f'<td class=\"is-selected\">{r.eventDate}</td>\\n'\n",
    "            \n",
    "        s += '</tr>\\n'\n",
    "    s += '</table>\\n'\n",
    "    results_html = s\n",
    "    \n",
    "    # summary_html\n",
    "\n",
    "    summary_dict = {}\n",
    "    summary_dict['title'] = title\n",
    "    summary_dict['uuid'] = uuid\n",
    "    summary_dict['n_materials_citations'] = merged_df.shape[0]\n",
    "    summary_dict['n_treatments'] = len(pd.unique(merged_df['canonicalName']))    \n",
    "    summary_dict['n_invalid_country'] = merged_df[merged_df['valid_country']==False].shape[0]\n",
    "    summary_dict['n_invalid_locality'] = merged_df[merged_df['valid_locality']==False].shape[0]\n",
    "    summary_dict['n_invalid_recordedBy'] = merged_df[merged_df['valid_recordedBy']==False].shape[0]\n",
    "    summary_dict['n_invalid_eventDate'] = merged_df[merged_df['valid_eventDate']==False].shape[0]\n",
    "    summary_dict['datestamp'] = get_datestamp()\n",
    "    print(summary_dict)\n",
    "\n",
    "    s = '<table class=\"table\">\\n'\n",
    "    s += '<thead>\\n'\n",
    "    s += '<tr>\\n'\n",
    "    s += '<th>treatments</th>\\n'\n",
    "    s += '<th>materials_citations</th>\\n'\n",
    "    s += '<th>invalid_country</th>\\n'\n",
    "    s += '<th>invalid_locality</th>\\n'\n",
    "    s += '<th>invalid_recordedBy</th>\\n'\n",
    "    s += '<th>invalid_eventDate</th>\\n'\n",
    "    s += '<th>datestamp</th>\\n'\n",
    "    s += '</tr>\\n'\n",
    "    s += '</thead>\\n'\n",
    "    s += '<tr>\\n'\n",
    "    s += f'<td>{summary_dict[\"n_treatments\"]}</td>\\n'    \n",
    "    s += f'<td>{summary_dict[\"n_materials_citations\"]}</td>\\n'    \n",
    "    \n",
    "    for x in ['n_invalid_country', 'n_invalid_locality', 'n_invalid_recordedBy', 'n_invalid_eventDate', 'datestamp']:\n",
    "        if summary_dict[x] == 0:\n",
    "            s += f'<td>{summary_dict[x]}</td>\\n'\n",
    "        else:\n",
    "            s += f'<td class=\"is-selected\">{summary_dict[x]}</td>\\n'\n",
    "       \n",
    "    s += '</tr>\\n'\n",
    "    s += '</table>'\n",
    "   \n",
    "    summary_html = s\n",
    "       \n",
    "    # Write the validation report\n",
    "    \n",
    "    timestamp = datetime.utcnow()\n",
    "    html = f'''\n",
    "        <html>\n",
    "            <header>\n",
    "                <meta charset=\"utf-8\">\n",
    "                <meta name=\"viewport\" content=\"width=device-width, initial-scale=1\">\n",
    "                <title>validator2</title>\n",
    "                <link rel=\"stylesheet\" href=\"https://cdn.jsdelivr.net/npm/bulma@0.9.3/css/bulma.min.css\">\n",
    "            </header>\n",
    "            <body>\n",
    "                <section class=\"section\">\n",
    "                    <div class=\"container\">\n",
    "                        {title_html}\n",
    "                        {summary_html}\n",
    "                        {results_html}\n",
    "                    </div>\n",
    "                </section>\n",
    "            </body>\n",
    "        </html>        \n",
    "        '''\n",
    "    with open(f'{uuid}.html', 'w') as f:\n",
    "        f.write(html)        \n",
    "            \n",
    "    return summary_dict\n",
    "\n",
    "# validate_dwca('FE566D11FFD2FFF5383F9056FFE3FFEF')"
   ]
  },
  {
   "cell_type": "code",
   "execution_count": 10,
   "id": "c64d240a-1d9c-4e47-aad6-c9b55e83cac1",
   "metadata": {
    "execution": {
     "iopub.execute_input": "2022-08-27T12:02:03.362243Z",
     "iopub.status.busy": "2022-08-27T12:02:03.361917Z",
     "iopub.status.idle": "2022-08-27T12:02:03.364121Z",
     "shell.execute_reply": "2022-08-27T12:02:03.363676Z"
    },
    "papermill": {
     "duration": 0.011475,
     "end_time": "2022-08-27T12:02:03.364184",
     "exception": false,
     "start_time": "2022-08-27T12:02:03.352709",
     "status": "completed"
    },
    "tags": []
   },
   "outputs": [
    {
     "name": "stdout",
     "output_type": "stream",
     "text": [
      "CPU times: user 2 µs, sys: 1 µs, total: 3 µs\n",
      "Wall time: 3.81 µs\n"
     ]
    }
   ],
   "source": [
    "%%time\n",
    "\n",
    "def generate_status_report(summary_list):\n",
    "    \n",
    "    # controlled_vocabularie_html\n",
    "\n",
    "    s = '<p class=\"title is-3\">Controlled vocabularies\\n'\n",
    "\n",
    "    s += '<p class=\"title is-4\">Country</p>\\n'\n",
    "    for i in sorted(country_list):\n",
    "        s += f'<p>{i}</p>\\n'\n",
    "    s += '<br><br>'\n",
    "\n",
    "    s += '<p class=\"title is-4\">Locality</p>\\n'\n",
    "    for i in sorted(locality_list):\n",
    "        s += f'<p>{i}</p>\\n'\n",
    "    s += '<br><br>'\n",
    "\n",
    "    s += '<p class=\"title is-4\">recordedBy</p>\\n'\n",
    "    for i in sorted(author_list):\n",
    "        s += f'<p>{i}</p>\\n'\n",
    "    s += '<br><br>'\n",
    "\n",
    "    s += '<p class=\"title is-4\">eventDate (valid years)</p>\\n'\n",
    "    for i in sorted(date_list):\n",
    "        s += f'<p>{i}</p>\\n'\n",
    "    s += '<br><br>'\n",
    "        \n",
    "    controlled_vocabularies_html = s\n",
    "\n",
    "    # title_html\n",
    "\n",
    "    s = '<p class=\"title is-1\">Insects of Guam Datamining Project</p>\\n'\n",
    "    s += f'<p class=\"subtitle is-3\">Status report</p>\\n'\n",
    "    s += f'<p>Generated by <b>validator2.ipynb</b> at {datetime.utcnow()} UTC</p>'\n",
    "    s += '<p>Data are check against controlled vocabularies listed at the bottom of this report. Currently, these lists are maintained within <b>validator2.ipynb</b></p>\\n'\n",
    "    s += '<p>Click on a <b>uuid</b> to see validation results for the corresponding chapter.</p>'\n",
    "    title_html = s\n",
    "\n",
    "    # table_html\n",
    "\n",
    "    s = '<table class=\"table\">\\n'\n",
    "    s += '<thead>\\n'\n",
    "    s += '<tr>\\n'\n",
    "    s += '<th>uuid</th>\\n'\n",
    "    s += '<th>title</th>\\n'\n",
    "    s += '<th>datestamp</th>\\n'\n",
    "    s += '<th>treatments</th>\\n'\n",
    "    s += '<th>materials_citations</th>\\n'\n",
    "    s += '<th>invalid_country</th>\\n'\n",
    "    s += '<th>invalid_locality</th>\\n'\n",
    "    s += '<th>invalid_recordedBy</th>\\n'\n",
    "    s += '<th>invalid_eventDate</th>\\n'\n",
    "    s += '</tr>\\n'\n",
    "    s += '</thead>\\n'\n",
    "\n",
    "    for d in summary_list:\n",
    "        uuid = d['uuid']\n",
    "        s += '<tr>\\n'\n",
    "        s += f'<td><a href=\"{uuid}.html\">{uuid}</td>\\n' # link to validation report for this uuid\n",
    "        s += f'<td>{d[\"title\"]}</td>\\n'\n",
    "        s += f'<td>{d[\"datestamp\"]}</td>\\n'\n",
    "        s += f'<td>{d[\"n_treatments\"]}</td>\\n'    \n",
    "        s += f'<td>{d[\"n_materials_citations\"]}</td>\\n'    \n",
    "\n",
    "        for x in ['n_invalid_country', 'n_invalid_locality', 'n_invalid_recordedBy', 'n_invalid_eventDate']:\n",
    "            if d[x] == 0:\n",
    "                s += f'<td>{d[x]}</td>\\n'\n",
    "            else:\n",
    "                s += f'<td class=\"is-selected\">{d[x]}</td>\\n'\n",
    "\n",
    "        s += '</tr>\\n'\n",
    "    s += '</table>'\n",
    "    table_html = s\n",
    "\n",
    "    # Write the validation report\n",
    "\n",
    "    timestamp = datetime.utcnow()\n",
    "    html = f'''\n",
    "        <html>\n",
    "            <header>\n",
    "                <meta charset=\"utf-8\">\n",
    "                <meta name=\"viewport\" content=\"width=device-width, initial-scale=1\">\n",
    "                <title>validator2</title>\n",
    "                <link rel=\"stylesheet\" href=\"https://cdn.jsdelivr.net/npm/bulma@0.9.3/css/bulma.min.css\">\n",
    "            </header>\n",
    "            <body>\n",
    "                <section class=\"section\">\n",
    "                    <div class=\"container\">\n",
    "                        {title_html}\n",
    "                        {table_html}\n",
    "                        {controlled_vocabularies_html}\n",
    "                    </div>\n",
    "                </section>\n",
    "            </body>\n",
    "        </html>        \n",
    "        '''\n",
    "    with open(f'status_report.html', 'w') as f:\n",
    "        f.write(html)           "
   ]
  },
  {
   "cell_type": "code",
   "execution_count": 11,
   "id": "fe987296-5243-46cf-9067-6ec9e6289d50",
   "metadata": {
    "execution": {
     "iopub.execute_input": "2022-08-27T12:02:03.379078Z",
     "iopub.status.busy": "2022-08-27T12:02:03.378782Z",
     "iopub.status.idle": "2022-08-27T12:02:03.380460Z",
     "shell.execute_reply": "2022-08-27T12:02:03.380166Z"
    },
    "papermill": {
     "duration": 0.00973,
     "end_time": "2022-08-27T12:02:03.380523",
     "exception": false,
     "start_time": "2022-08-27T12:02:03.370793",
     "status": "completed"
    },
    "tags": []
   },
   "outputs": [],
   "source": [
    "def cleanup():\n",
    "    files = ['meta.xml', 'eml.xml', 'taxa.txt', 'occurrences.txt', 'multimedia.txt', 'description.txt', 'distribution.txt', 'media.txt', 'references.txt', 'vernaculars.txt']\n",
    "    for f in files:\n",
    "        if os.path.exists(f):\n",
    "            os.remove(f)\n",
    "            \n",
    "cleanup()"
   ]
  },
  {
   "cell_type": "code",
   "execution_count": 12,
   "id": "2a3047a8-876c-4d6a-844f-ae7c2dcb8a9f",
   "metadata": {
    "execution": {
     "iopub.execute_input": "2022-08-27T12:02:03.394980Z",
     "iopub.status.busy": "2022-08-27T12:02:03.394682Z"
    },
    "papermill": {
     "duration": null,
     "end_time": null,
     "exception": false,
     "start_time": "2022-08-27T12:02:03.386503",
     "status": "running"
    },
    "tags": []
   },
   "outputs": [
    {
     "name": "stdout",
     "output_type": "stream",
     "text": [
      "Validating\n"
     ]
    },
    {
     "name": "stdout",
     "output_type": "stream",
     "text": [
      "{'title': 'Strepsiptera of Guam', 'uuid': 'FFF07216FFA41642FFBAFFE7FFCA482A', 'n_materials_citations': 2, 'n_treatments': 1, 'n_invalid_country': 0, 'n_invalid_locality': 0, 'n_invalid_recordedBy': 0, 'n_invalid_eventDate': 0, 'datestamp': '2022-07-10T07:33:36+0000'}\n"
     ]
    },
    {
     "name": "stdout",
     "output_type": "stream",
     "text": [
      "{'title': 'Halictine Bees from Rota Island', 'uuid': 'A676FD1EF22D3F34FF8F8907FFDAFC58', 'n_materials_citations': 3, 'n_treatments': 3, 'n_invalid_country': 0, 'n_invalid_locality': 0, 'n_invalid_recordedBy': 0, 'n_invalid_eventDate': 0, 'datestamp': '2022-05-03T23:10:30+0000'}\n"
     ]
    },
    {
     "name": "stdout",
     "output_type": "stream",
     "text": [
      "{'title': 'Aphididae and Aleurodidae Of Guam', 'uuid': 'FF8CA776FF947F25FF920C4AFFF5FF0F', 'n_materials_citations': 9, 'n_treatments': 4, 'n_invalid_country': 0, 'n_invalid_locality': 0, 'n_invalid_recordedBy': 0, 'n_invalid_eventDate': 0, 'datestamp': '2022-07-10T06:41:44+0000'}\n"
     ]
    },
    {
     "name": "stdout",
     "output_type": "stream",
     "text": [
      "{'title': 'Isoptera of Guam', 'uuid': 'FFDEFF89B713A955FFD59822FF8CFF82', 'n_materials_citations': 6, 'n_treatments': 3, 'n_invalid_country': 0, 'n_invalid_locality': 0, 'n_invalid_recordedBy': 0, 'n_invalid_eventDate': 0, 'datestamp': '2022-07-10T07:24:49+0000'}\n"
     ]
    },
    {
     "name": "stdout",
     "output_type": "stream",
     "text": [
      "{'title': 'Ciidae of Guam', 'uuid': '6137FFB29C68FFD2FFB6585FFF92FFC4', 'n_materials_citations': 5, 'n_treatments': 4, 'n_invalid_country': 0, 'n_invalid_locality': 0, 'n_invalid_recordedBy': 0, 'n_invalid_eventDate': 0, 'datestamp': '2022-05-03T23:36:49+0000'}\n"
     ]
    },
    {
     "name": "stdout",
     "output_type": "stream",
     "text": [
      "{'title': 'Sphingidae Of Guam', 'uuid': 'C5751610FFAD3E7CE078FFB1FFCFFF82', 'n_materials_citations': 15, 'n_treatments': 5, 'n_invalid_country': 0, 'n_invalid_locality': 0, 'n_invalid_recordedBy': 0, 'n_invalid_eventDate': 0, 'datestamp': '2022-07-09T10:57:26+0000'}\n"
     ]
    },
    {
     "name": "stdout",
     "output_type": "stream",
     "text": [
      "{'title': 'Anthribidae Of Guam', 'uuid': 'AD79FFBAEA10FFDBFFFE8726FFBFFFFE', 'n_materials_citations': 34, 'n_treatments': 7, 'n_invalid_country': 0, 'n_invalid_locality': 0, 'n_invalid_recordedBy': 0, 'n_invalid_eventDate': 0, 'datestamp': '2022-07-10T06:07:15+0000'}\n"
     ]
    },
    {
     "name": "stdout",
     "output_type": "stream",
     "text": [
      "{'title': 'Rhipiceridae Of Guam', 'uuid': 'FFECFFAC5917FF88FFDE5B1BFFC4FF9B', 'n_materials_citations': 9, 'n_treatments': 1, 'n_invalid_country': 0, 'n_invalid_locality': 0, 'n_invalid_recordedBy': 0, 'n_invalid_eventDate': 0, 'datestamp': '2022-07-10T07:32:08+0000'}\n"
     ]
    },
    {
     "name": "stdout",
     "output_type": "stream",
     "text": [
      "{'title': 'Trypetidae, Otitidae, Helomyzidae, And Clusiidae of Guam (Diptera)', 'uuid': 'FFC7133C860D1213FFF18D1A5E327636', 'n_materials_citations': 28, 'n_treatments': 11, 'n_invalid_country': 0, 'n_invalid_locality': 0, 'n_invalid_recordedBy': 0, 'n_invalid_eventDate': 0, 'datestamp': '2022-07-09T13:54:08+0000'}\n"
     ]
    },
    {
     "name": "stdout",
     "output_type": "stream",
     "text": [
      "{'title': 'Coleoptera, Staphylinidae Of Guam', 'uuid': 'FFF8B07B536B3042BD53344E0F0FFFD7', 'n_materials_citations': 14, 'n_treatments': 9, 'n_invalid_country': 0, 'n_invalid_locality': 0, 'n_invalid_recordedBy': 0, 'n_invalid_eventDate': 0, 'datestamp': '2022-05-04T00:27:46+0000'}\n"
     ]
    },
    {
     "name": "stdout",
     "output_type": "stream",
     "text": [
      "{'title': 'Culicidae of Guam', 'uuid': '4125F147872BFF9DFFF5FFAC140DFF83', 'n_materials_citations': 10, 'n_treatments': 5, 'n_invalid_country': 0, 'n_invalid_locality': 0, 'n_invalid_recordedBy': 0, 'n_invalid_eventDate': 0, 'datestamp': '2022-07-10T05:27:28+0000'}\n"
     ]
    },
    {
     "name": "stdout",
     "output_type": "stream",
     "text": [
      "{'title': 'Elaterid And Eucnemid Beetles Of Guam', 'uuid': 'BE7D4354FFEEFF8BFFBDFFBC0B359010', 'n_materials_citations': 17, 'n_treatments': 7, 'n_invalid_country': 0, 'n_invalid_locality': 0, 'n_invalid_recordedBy': 0, 'n_invalid_eventDate': 0, 'datestamp': '2022-07-10T06:12:59+0000'}\n"
     ]
    },
    {
     "name": "stdout",
     "output_type": "stream",
     "text": [
      "{'title': 'Membracidae of Guam', 'uuid': 'FF86FFC39D5F6775A307302F3260421D', 'n_materials_citations': 15, 'n_treatments': 1, 'n_invalid_country': 0, 'n_invalid_locality': 0, 'n_invalid_recordedBy': 0, 'n_invalid_eventDate': 0, 'datestamp': '2022-07-10T06:38:53+0000'}\n"
     ]
    },
    {
     "name": "stdout",
     "output_type": "stream",
     "text": [
      "{'title': 'Homoptera, Cercopidae of Guam', 'uuid': 'FFF49654F7692F7AFF85FFD7FFE1FFCA', 'n_materials_citations': 19, 'n_treatments': 3, 'n_invalid_country': 0, 'n_invalid_locality': 0, 'n_invalid_recordedBy': 0, 'n_invalid_eventDate': 0, 'datestamp': '2022-07-10T07:35:28+0000'}\n"
     ]
    },
    {
     "name": "stdout",
     "output_type": "stream",
     "text": [
      "{'title': 'Barkbeetles of Guam', 'uuid': '8A034648715AFFEADD11FF809F446C3F', 'n_materials_citations': 28, 'n_treatments': 8, 'n_invalid_country': 0, 'n_invalid_locality': 0, 'n_invalid_recordedBy': 0, 'n_invalid_eventDate': 0, 'datestamp': '2022-07-09T10:02:06+0000'}\n"
     ]
    },
    {
     "name": "stdout",
     "output_type": "stream",
     "text": [
      "{'title': 'Neuropteroid Insects from Guam', 'uuid': '9668142AFFAC355BFFD8FFF0FFC6FFA4', 'n_materials_citations': 60, 'n_treatments': 20, 'n_invalid_country': 0, 'n_invalid_locality': 0, 'n_invalid_recordedBy': 0, 'n_invalid_eventDate': 0, 'datestamp': '2022-07-09T10:14:15+0000'}\n"
     ]
    },
    {
     "name": "stdout",
     "output_type": "stream",
     "text": [
      "{'title': 'Diptera, Tipulidae of Guam', 'uuid': 'FF82F923FF8F8849FFA5FF95FFD8C108', 'n_materials_citations': 26, 'n_treatments': 12, 'n_invalid_country': 0, 'n_invalid_locality': 0, 'n_invalid_recordedBy': 0, 'n_invalid_eventDate': 0, 'datestamp': '2022-07-09T11:53:51+0000'}\n"
     ]
    },
    {
     "name": "stdout",
     "output_type": "stream",
     "text": [
      "{'title': 'Some New Species Of Nemocerous Diptera From Guam', 'uuid': '860DFFECFFDCFFF2FFF5FFD0FFC18147', 'n_materials_citations': 17, 'n_treatments': 8, 'n_invalid_country': 0, 'n_invalid_locality': 0, 'n_invalid_recordedBy': 0, 'n_invalid_eventDate': 0, 'datestamp': '2022-05-04T00:35:07+0000'}\n"
     ]
    },
    {
     "name": "stdout",
     "output_type": "stream",
     "text": [
      "{'title': 'Orthoptera And Related Orders Orthoptera And Related Orders Of Guam', 'uuid': 'D04FFFF5FF9DFFF4BF68FFAAFFBBFFD8', 'n_materials_citations': 129, 'n_treatments': 25, 'n_invalid_country': 0, 'n_invalid_locality': 0, 'n_invalid_recordedBy': 0, 'n_invalid_eventDate': 0, 'datestamp': '2022-07-21T21:56:47+0000'}\n"
     ]
    },
    {
     "name": "stdout",
     "output_type": "stream",
     "text": [
      "{'title': 'Hymenoptera Formicidae of Guam', 'uuid': 'F27607317E645A2FB552FF8416577654', 'n_materials_citations': 189, 'n_treatments': 29, 'n_invalid_country': 0, 'n_invalid_locality': 0, 'n_invalid_recordedBy': 0, 'n_invalid_eventDate': 0, 'datestamp': '2022-07-18T18:51:27+0000'}\n"
     ]
    },
    {
     "name": "stdout",
     "output_type": "stream",
     "text": [
      "{'title': 'Hymenoptera, New Species Of Guam Chalcidoidea', 'uuid': 'FFD1FFF8FFF9FFB3FFC86E5DFFBE8B32', 'n_materials_citations': 22, 'n_treatments': 10, 'n_invalid_country': 0, 'n_invalid_locality': 0, 'n_invalid_recordedBy': 0, 'n_invalid_eventDate': 0, 'datestamp': '2022-07-18T18:39:38+0000'}\n"
     ]
    },
    {
     "name": "stdout",
     "output_type": "stream",
     "text": [
      "{'title': 'Psyllidae from Guam', 'uuid': 'FFE68664BF23FFD1F70BFF81FFA1FFE4', 'n_materials_citations': 38, 'n_treatments': 6, 'n_invalid_country': 0, 'n_invalid_locality': 0, 'n_invalid_recordedBy': 0, 'n_invalid_eventDate': 0, 'datestamp': '2022-07-20T13:09:33+0000'}\n"
     ]
    },
    {
     "name": "stdout",
     "output_type": "stream",
     "text": [
      "{'title': 'Wasps of Guam', 'uuid': 'B525F8594A7852476D53FFF00A6FFFD2', 'n_materials_citations': 72, 'n_treatments': 9, 'n_invalid_country': 0, 'n_invalid_locality': 0, 'n_invalid_recordedBy': 0, 'n_invalid_eventDate': 0, 'datestamp': '2022-07-27T20:15:48+0000'}\n"
     ]
    },
    {
     "name": "stdout",
     "output_type": "stream",
     "text": [
      "{'title': 'New Longicorn Beetles From Guam (Cerambycidae)', 'uuid': 'FFE8E303585AA232FF96FFDCFFCADD26', 'n_materials_citations': 60, 'n_treatments': 7, 'n_invalid_country': 0, 'n_invalid_locality': 0, 'n_invalid_recordedBy': 0, 'n_invalid_eventDate': 0, 'datestamp': '2022-07-27T20:16:50+0000'}\n"
     ]
    },
    {
     "name": "stdout",
     "output_type": "stream",
     "text": [
      "{'title': 'Thysanoptera: Thrips of Guam', 'uuid': 'FFDF7A4CFFF3FFC777195003DD64051A', 'n_materials_citations': 31, 'n_treatments': 22, 'n_invalid_country': 0, 'n_invalid_locality': 0, 'n_invalid_recordedBy': 0, 'n_invalid_eventDate': 0, 'datestamp': '2022-07-26T12:59:47+0000'}\n"
     ]
    },
    {
     "name": "stdout",
     "output_type": "stream",
     "text": [
      "{'title': 'Bees of Guam', 'uuid': 'FE566D11FFD2FFF5383F9056FFE3FFEF', 'n_materials_citations': 31, 'n_treatments': 6, 'n_invalid_country': 0, 'n_invalid_locality': 0, 'n_invalid_recordedBy': 0, 'n_invalid_eventDate': 0, 'datestamp': '2022-07-10T06:34:34+0000'}\n"
     ]
    },
    {
     "name": "stdout",
     "output_type": "stream",
     "text": [
      "{'title': 'ODONATA, DRAGONFLIES OF GUAM', 'uuid': 'FFDFF02AC57CFFB7FF89B354FF83F875', 'n_materials_citations': 70, 'n_treatments': 11, 'n_invalid_country': 0, 'n_invalid_locality': 0, 'n_invalid_recordedBy': 0, 'n_invalid_eventDate': 0, 'datestamp': '2022-07-26T18:49:17+0000'}\n"
     ]
    },
    {
     "name": "stdout",
     "output_type": "stream",
     "text": [
      "{'title': 'SOME MISCELLANEOUS DIPTERA OF GUAM', 'uuid': 'B472FFEFFFAEFFB2A40BFFD9A227FFD1', 'n_materials_citations': 66, 'n_treatments': 21, 'n_invalid_country': 0, 'n_invalid_locality': 0, 'n_invalid_recordedBy': 0, 'n_invalid_eventDate': 0, 'datestamp': '2022-08-03T15:13:01+0000'}\n"
     ]
    },
    {
     "name": "stdout",
     "output_type": "stream",
     "text": [
      "{'title': 'Coleoptera Heteromera From Guam', 'uuid': 'FFDAFFA2FFAEFFC88657F353FF92FFF8', 'n_materials_citations': 60, 'n_treatments': 12, 'n_invalid_country': 0, 'n_invalid_locality': 0, 'n_invalid_recordedBy': 0, 'n_invalid_eventDate': 0, 'datestamp': '2022-08-12T04:17:06+0000'}\n"
     ]
    },
    {
     "name": "stdout",
     "output_type": "stream",
     "text": [
      "{'title': 'Homoptera, Fulgoroidea and Jassoidea of Guam', 'uuid': 'BD58FF95EB59FFFFFFB04B578875FD6D', 'n_materials_citations': 119, 'n_treatments': 33, 'n_invalid_country': 0, 'n_invalid_locality': 0, 'n_invalid_recordedBy': 0, 'n_invalid_eventDate': 0, 'datestamp': '2022-08-11T18:24:27+0000'}\n"
     ]
    },
    {
     "name": "stdout",
     "output_type": "stream",
     "text": [
      "{'title': 'Ichneumonidae, Evaniidae, And Braconidae Of Guam', 'uuid': '6C420D32855DFFCA221EFFCCE940FF9E', 'n_materials_citations': 79, 'n_treatments': 24, 'n_invalid_country': 0, 'n_invalid_locality': 0, 'n_invalid_recordedBy': 0, 'n_invalid_eventDate': 0, 'datestamp': '2022-08-16T23:49:57+0000'}\n"
     ]
    },
    {
     "name": "stdout",
     "output_type": "stream",
     "text": [
      "{'title': 'Coccidae of Guam', 'uuid': '0C07FFD2F91AFFFBFF82FF9EFFC41E3E', 'n_materials_citations': 77, 'n_treatments': 43, 'n_invalid_country': 38, 'n_invalid_locality': 35, 'n_invalid_recordedBy': 49, 'n_invalid_eventDate': 38, 'datestamp': '2022-08-23T19:42:47+0000'}\n"
     ]
    },
    {
     "name": "stdout",
     "output_type": "stream",
     "text": [
      "{'title': 'Notes On Some Guam Chalcidoidea', 'uuid': '8F4F9461FF8AFFE4E503FFAC8F5EFFD2', 'n_materials_citations': 65, 'n_treatments': 43, 'n_invalid_country': 65, 'n_invalid_locality': 65, 'n_invalid_recordedBy': 65, 'n_invalid_eventDate': 65, 'datestamp': '2022-07-09T10:07:07+0000'}\n"
     ]
    },
    {
     "name": "stdout",
     "output_type": "stream",
     "text": [
      "{'title': 'Lepidoptera, Butterflies of Guam', 'uuid': 'FF8A6512AA2D474D9945FF80FFCFFFAC', 'n_materials_citations': 66, 'n_treatments': 12, 'n_invalid_country': 66, 'n_invalid_locality': 66, 'n_invalid_recordedBy': 66, 'n_invalid_eventDate': 66, 'datestamp': '2022-07-09T12:06:59+0000'}\n"
     ]
    },
    {
     "name": "stdout",
     "output_type": "stream",
     "text": [
      "{'title': 'Lepidoptera, Geometridae, Arctiidae, Agrotidae, and Pyralidae of Guam', 'uuid': 'FF8AFFC0E94BFFA1FFCF823D9276034F', 'n_materials_citations': 72, 'n_treatments': 54, 'n_invalid_country': 72, 'n_invalid_locality': 72, 'n_invalid_recordedBy': 72, 'n_invalid_eventDate': 72, 'datestamp': '2022-07-09T01:05:42+0000'}\n"
     ]
    }
   ],
   "source": [
    "%%time\n",
    "\n",
    "# MAIN\n",
    "\n",
    "df = read_dataset_list()\n",
    "\n",
    "# Validate each DwCA\n",
    "\n",
    "print('Validating')\n",
    "\n",
    "summary_list = []\n",
    "\n",
    "uuids = list(df.uuid.values)\n",
    "for uuid in uuids:\n",
    "    summary_dict = validate_dwca(uuid)\n",
    "    summary_list.append(summary_dict)\n",
    "\n",
    "print('Generating status report')  \n",
    "generate_status_report(summary_list)\n",
    "\n",
    "print('Cleaning up')\n",
    "cleanup()\n",
    "\n",
    "print('Updating GitHub')\n",
    "update_github()\n",
    "        \n",
    "print('FINISHED')"
   ]
  },
  {
   "cell_type": "code",
   "execution_count": null,
   "id": "06052c16-ab4d-4c4f-a168-cb8248750d91",
   "metadata": {
    "papermill": {
     "duration": null,
     "end_time": null,
     "exception": null,
     "start_time": null,
     "status": "pending"
    },
    "tags": []
   },
   "outputs": [],
   "source": []
  }
 ],
 "metadata": {
  "kernelspec": {
   "display_name": "Python 3",
   "language": "python",
   "name": "python3"
  },
  "language_info": {
   "codemirror_mode": {
    "name": "ipython",
    "version": 3
   },
   "file_extension": ".py",
   "mimetype": "text/x-python",
   "name": "python",
   "nbconvert_exporter": "python",
   "pygments_lexer": "ipython3",
   "version": "3.8.8"
  },
  "papermill": {
   "default_parameters": {},
   "duration": null,
   "end_time": null,
   "environment_variables": {},
   "exception": null,
   "input_path": "validator2.ipynb",
   "output_path": "output.ipynb",
   "parameters": {},
   "start_time": "2022-08-27T12:02:02.205137",
   "version": "2.3.3"
  }
 },
 "nbformat": 4,
 "nbformat_minor": 5
}