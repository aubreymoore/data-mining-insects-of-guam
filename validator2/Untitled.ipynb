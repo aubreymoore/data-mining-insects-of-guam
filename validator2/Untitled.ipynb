{
 "cells": [
  {
   "cell_type": "code",
   "execution_count": 17,
   "id": "9d362030-5f8c-4672-9a3a-c56061333f19",
   "metadata": {},
   "outputs": [],
   "source": [
    "import pandas as pd"
   ]
  },
  {
   "cell_type": "code",
   "execution_count": 18,
   "id": "3cfe9b8d-12f5-44ca-b393-0cde43eae71e",
   "metadata": {},
   "outputs": [
    {
     "name": "stdout",
     "output_type": "stream",
     "text": [
      "Number of chapters processed =  39\n",
      "Number of treatments (species) =  777\n",
      "Number of materials citations (occurrence records) =  3303\n"
     ]
    }
   ],
   "source": [
    "file_path = 'status_report.html'\n",
    "with open(file_path, 'r') as f:\n",
    "    dfs = pd.read_html(f.read())\n",
    "        \n",
    "# pd.read_html returns a list of dataframes. We are interested in the first df on this page.\n",
    "df = dfs[0]\n",
    "\n",
    "print('Number of chapters processed = ', df.shape[0])\n",
    "print('Number of treatments (species) = ', df.treatments.sum())\n",
    "print('Number of materials citations (occurrence records) = ', df.materials_citations.sum())"
   ]
  }
 ],
 "metadata": {
  "kernelspec": {
   "display_name": "Python 3",
   "language": "python",
   "name": "python3"
  },
  "language_info": {
   "codemirror_mode": {
    "name": "ipython",
    "version": 3
   },
   "file_extension": ".py",
   "mimetype": "text/x-python",
   "name": "python",
   "nbconvert_exporter": "python",
   "pygments_lexer": "ipython3",
   "version": "3.8.10"
  }
 },
 "nbformat": 4,
 "nbformat_minor": 5
}
