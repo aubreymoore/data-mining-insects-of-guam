{
 "cells": [
  {
   "cell_type": "markdown",
   "id": "84bc4893",
   "metadata": {},
   "source": [
    "# GGIbot\n",
    "\n",
    "This notebook controls execution of GGI using **pyautogui**.\n",
    "\n",
    "It was written to automate downloading XML files for documents from Insects of Guam I and II\n",
    "as part of a validation process.\n",
    "\n",
    "This is a fragile hack which probably runs only on my particular setup."
   ]
  },
  {
   "cell_type": "code",
   "execution_count": 1,
   "id": "d8a8cdd5-ccf1-4804-9434-1c3bafb0a9eb",
   "metadata": {},
   "outputs": [],
   "source": [
    "import pyautogui as pag\n",
    "import time\n",
    "import mysecrets\n",
    "import pandas as pd"
   ]
  },
  {
   "cell_type": "code",
   "execution_count": 2,
   "id": "27e1808f",
   "metadata": {},
   "outputs": [],
   "source": [
    "def read_dataset_list():\n",
    "    '''\n",
    "    Reads ../dataset-list.md and returns a pandas dataframe\n",
    "    '''\n",
    "    \n",
    "    # Read a markdown file, getting the header from the first row and inex from the second column\n",
    "    # df = pd.read_table('../dataset-list.md', sep=\"|\", header=0, index_col=1, skipinitialspace=True)\n",
    "    df = pd.read_table('../dataset-list.md', sep=\"|\", header=0, skipinitialspace=True)\n",
    "\n",
    "    # Drop the left-most and right-most null columns \n",
    "    df = df.dropna(axis=1, how='all')\n",
    "\n",
    "    # Drop the header underline row\n",
    "    df = df.iloc[1:]  \n",
    "\n",
    "    # Left-align strings and column headings\n",
    "    # df = df.style.set_properties(**{'text-align': 'left'})\n",
    "    # df = df.set_table_styles([dict(selector = 'th', props=[('text-align', 'left')])])\n",
    "\n",
    "    # Strip whitespace from end of strings\n",
    "    df = df.applymap(lambda x: x.strip() if isinstance(x, str) else x)\n",
    "\n",
    "    # Strip whitespace from end of column headers\n",
    "    df.columns = df.columns.str.strip()\n",
    "\n",
    "    # Drop datasets with no title - we don't need to process these\n",
    "    df = df.drop(df[df.title == 'no title'].index)\n",
    "    return df"
   ]
  },
  {
   "cell_type": "code",
   "execution_count": 3,
   "id": "e5a3790e",
   "metadata": {},
   "outputs": [],
   "source": [
    "XMLDIR = '/home/aubrey/Desktop/data-mining-insects-of-guam/MatCit-Validator'"
   ]
  },
  {
   "cell_type": "code",
   "execution_count": 4,
   "id": "9e5acc1b",
   "metadata": {},
   "outputs": [],
   "source": [
    "uuids = ['FF86FFC39D5F6775A307302F3260421D']"
   ]
  },
  {
   "cell_type": "code",
   "execution_count": 5,
   "id": "fb1b3409-41d6-4687-9ef0-49493f141dd1",
   "metadata": {},
   "outputs": [],
   "source": [
    "pag.PAUSE = 5"
   ]
  },
  {
   "cell_type": "code",
   "execution_count": 6,
   "id": "b6dbcabc-d03e-45d5-811f-400b2eb1c9eb",
   "metadata": {
    "tags": []
   },
   "outputs": [],
   "source": [
    "def open_GGI():\n",
    "    pag.hotkey('ctrl','alt','t')\n",
    "    pag.typewrite('cd GGI\\n')\n",
    "    pag.typewrite('java -jar GgImagineStarter.jar\\n')\n",
    "    pag.typewrite('\\n')\n",
    "    time.sleep(10)\n",
    "\n",
    "    pag.click(1141, 565, duration=2) # select configuration\n",
    "    pag.click(1469, 646, duration=2) # click configuration button\n",
    "    pag.click(1590, 562, duration=2) # look and feel\n",
    "    pag.click(1259, 635, duration=2) # select JAVA\n",
    "    pag.click(1267, 709, duration=2) # OK\n",
    "    pag.click(1143, 648, duration=2) # OK\n",
    "    pag.click(1766, 171, duration=2) # maximize window"
   ]
  },
  {
   "cell_type": "code",
   "execution_count": 7,
   "id": "e9352e8e-d002-4734-9d06-2e580f1defc3",
   "metadata": {},
   "outputs": [],
   "source": [
    "def login():\n",
    "    '''\n",
    "    This function spoofs a login by clicking on File | Load from GGI server items on the main GGI menu.\n",
    "    The first time that a download is requested during a session results in a login dialog.\n",
    "    \n",
    "    My username is remembered by GGI, so this function provides only my password. Note that I keep \n",
    "    this private by reading it from mysecrets.py which is included in .gitignore. The pertinant line looks like\n",
    "    \"password = <my GGI password>\".\n",
    "    \n",
    "    This function does not download a document from the GGI server, but exits after pressing the \"cancel\" button.    \n",
    "    '''\n",
    "    pag.click(  92,  69, duration=2) # File\n",
    "    pag.click( 122, 134, duration=2) # load from GGI server\n",
    "    pag.press('enter')\n",
    "    pag.typewrite(mysecrets.password)  # password\n",
    "    pag.press('enter')\n",
    "    pag.click(1371, 594, duration=2) # cancel"
   ]
  },
  {
   "cell_type": "code",
   "execution_count": 8,
   "id": "b5c980b9",
   "metadata": {},
   "outputs": [],
   "source": [
    "def load_doc(uuid):\n",
    "    pag.click(  92,  69, duration=2) # File\n",
    "    pag.click( 122, 134, duration=2) # load from GGI server\n",
    "    pag.typewrite(uuid)\n",
    "    pag.press('enter')\n",
    "    \n",
    "# load_doc('FF86FFC39D5F6775A307302F3260421D')"
   ]
  },
  {
   "cell_type": "code",
   "execution_count": 9,
   "id": "0293a11a",
   "metadata": {},
   "outputs": [],
   "source": [
    "def export_xml(uuid):\n",
    "    pag.click(133,  72, duration=2) # Export\n",
    "    pag.click(151, 154, duration=2) # Export XML\n",
    "    xml_path = f'{XMLDIR}/{uuid}'\n",
    "    pag.press('backspace')          # Remove space character in textbox\n",
    "    pag.typewrite(xml_path)\n",
    "    pag.press('enter')\n",
    "    \n",
    "# export_xml('FF86FFC39D5F6775A307302F3260421D')"
   ]
  },
  {
   "cell_type": "code",
   "execution_count": 10,
   "id": "e7de0f0f",
   "metadata": {},
   "outputs": [],
   "source": [
    "def close_doc():\n",
    "    pag.click(  92,  69, duration=2) # File\n",
    "    pag.click( 132, 214, duration=2) # Close Document\n",
    "\n",
    "#close_doc()"
   ]
  },
  {
   "cell_type": "code",
   "execution_count": 11,
   "id": "2a3047a8-876c-4d6a-844f-ae7c2dcb8a9f",
   "metadata": {},
   "outputs": [
    {
     "name": "stdout",
     "output_type": "stream",
     "text": [
      "FINISHED\n",
      "Please update git repo for ~/Desktop/data-mining-insects-of-guam\n"
     ]
    }
   ],
   "source": [
    "# MAIN\n",
    "\n",
    "df = read_dataset_list()\n",
    "\n",
    "# lets process the first 5 datasets\n",
    "uuids = list(df.iloc[0:5].uuid.values)\n",
    "\n",
    "open_GGI()\n",
    "login()\n",
    "for uuid in uuids:\n",
    "    load_doc(uuid)\n",
    "    export_xml(uuid)\n",
    "    close_doc()\n",
    "print('FINISHED')\n",
    "print('Please update git repo for ~/Desktop/data-mining-insects-of-guam')"
   ]
  },
  {
   "cell_type": "raw",
   "id": "b6c35c5e",
   "metadata": {},
   "source": [
    "# Convert this to a code cell if you need to monitor mouse cursor positions.\n",
    "\n",
    "while True:\n",
    "    print(pag.position())\n",
    "    time.sleep(5)"
   ]
  }
 ],
 "metadata": {
  "kernelspec": {
   "display_name": "Python 3",
   "language": "python",
   "name": "python3"
  },
  "language_info": {
   "codemirror_mode": {
    "name": "ipython",
    "version": 3
   },
   "file_extension": ".py",
   "mimetype": "text/x-python",
   "name": "python",
   "nbconvert_exporter": "python",
   "pygments_lexer": "ipython3",
   "version": "3.8.10"
  }
 },
 "nbformat": 4,
 "nbformat_minor": 5
}
