{
 "cells": [
  {
   "cell_type": "code",
   "execution_count": 20,
   "id": "09ad1085",
   "metadata": {},
   "outputs": [],
   "source": [
    "import pandas as pd\n",
    "from pygbif import registry\n",
    "from requests_cache import remove_expired_responses\n",
    "import re"
   ]
  },
  {
   "cell_type": "code",
   "execution_count": 21,
   "id": "c7587069-1914-4595-906f-a41103b1f6fb",
   "metadata": {},
   "outputs": [
    {
     "data": {
      "text/plain": [
       "'Swezey, O. H. (1942): Hymenoptera Formicidae of Guam. In: Insects of Guam I. Honolulu, Hawaii: Bernice P. Bishop Museum: 175-183, DOI: <a href=\"http://doi.org/10.5281/zenodo.5160270\">http://doi.org/10.5281/zenodo.5160270</a>'"
      ]
     },
     "execution_count": 21,
     "metadata": {},
     "output_type": "execute_result"
    }
   ],
   "source": [
    "def get_description(uuid):\n",
    "    try:\n",
    "        s = registry.dataset_search(uuid)['results'][0]['description']\n",
    "    except:\n",
    "        return f'Cannot get description for uuid {uuid}'\n",
    "    s = s.replace('This dataset contains the digitized treatments in Plazi based on the original book chapter ', '')\n",
    "    s = doi_to_link(s)   \n",
    "    return s\n",
    "\n",
    "#get_description(df.uuid[10])"
   ]
  },
  {
   "cell_type": "code",
   "execution_count": 22,
   "id": "3f890c83-fb71-43c6-9bcb-f31228d5d004",
   "metadata": {},
   "outputs": [],
   "source": [
    "def doi_to_link(text):\n",
    "    'Converts DOI reference into a hyperlink.'\n",
    "    doi_re = re.compile(\"http://doi.org/10.(\\d)+/([^(\\s\\>\\\"\\<)])+\")\n",
    "    m = doi_re.search(text)\n",
    "    doi = m.group(0)\n",
    "    link = f'<a href=\"{doi}\">{doi}</a>'\n",
    "    return text.replace(doi, link)                   "
   ]
  },
  {
   "cell_type": "code",
   "execution_count": 23,
   "id": "4c5c09c4-9d7a-460c-bec1-048130b0dbdf",
   "metadata": {},
   "outputs": [],
   "source": [
    "def get_gbif_link(uuid):\n",
    "    s = f'https://www.gbif.org/dataset/search?q={uuid}'\n",
    "    link = f'<a href=\"{s}\">{s}</a>'\n",
    "    return link\n",
    "\n",
    "#get_gbif_link(df.uuid[1])"
   ]
  },
  {
   "cell_type": "code",
   "execution_count": 24,
   "id": "76b83db6",
   "metadata": {},
   "outputs": [
    {
     "name": "stdout",
     "output_type": "stream",
     "text": [
      "Cannot get description for uuid FFACC92EFFE0FFEBFFB2FFC1FFFB1840\n",
      "Cannot get description for uuid FFDEFFB5FFEF2668F3703F1BA92CFFEC\n",
      "Cannot get description for uuid 3E2FFFD28269FFBA01661E40436DDC7F\n",
      "Cannot get description for uuid 6D52FFB8FF92FFADFF95FFC0A34F4C1B\n",
      "Cannot get description for uuid FF96AE2B4919FFEE533EDE21E401C676\n",
      "Cannot get description for uuid FFAB9206FFF3FF85FF802719FFCC1948\n",
      "Cannot get description for uuid FFD7FFEB886AFFCD28113213FFA86C28\n"
     ]
    }
   ],
   "source": [
    "df = pd.read_csv('data/guam_uuids.txt', delimiter='\\t', header=None) \n",
    "df.drop([0,3], axis='columns', inplace=True)\n",
    "df.columns = ['uuid', 'imf']\n",
    "df['gbif'] = df.apply(lambda x: get_gbif_link(x.uuid), axis=1)\n",
    "df['zenodo'] = df.apply(lambda x: get_description(x.uuid), axis=1)\n",
    "df.to_html('data/uuid_list.html', escape=False)"
   ]
  }
 ],
 "metadata": {
  "kernelspec": {
   "display_name": "Python 3",
   "language": "python",
   "name": "python3"
  },
  "language_info": {
   "codemirror_mode": {
    "name": "ipython",
    "version": 3
   },
   "file_extension": ".py",
   "mimetype": "text/x-python",
   "name": "python",
   "nbconvert_exporter": "python",
   "pygments_lexer": "ipython3",
   "version": "3.8.8"
  }
 },
 "nbformat": 4,
 "nbformat_minor": 5
}
